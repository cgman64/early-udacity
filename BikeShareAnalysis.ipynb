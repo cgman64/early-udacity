{
 "cells": [
  {
   "cell_type": "markdown",
   "metadata": {},
   "source": [
    "# Bay Area Bike Share Analysis\n",
    "\n",
    "Christian Guzman\n",
    "\n",
    "October 2016"
   ]
  },
  {
   "cell_type": "markdown",
   "metadata": {},
   "source": [
    "In this analysis project, data is pulled from **1 year** of the system launch of the bike share program from August 29, 2013 to August 31, 2014."
   ]
  },
  {
   "cell_type": "markdown",
   "metadata": {},
   "source": [
    "**Question 1:** How often do user trips go over 30 minutes?\n",
    "\n",
    "**Question 2:** Which method of payment do the most users prefer?"
   ]
  },
  {
   "cell_type": "markdown",
   "metadata": {},
   "source": [
    "## Data Wrangling"
   ]
  },
  {
   "cell_type": "code",
   "execution_count": 1,
   "metadata": {
    "collapsed": false
   },
   "outputs": [],
   "source": [
    "# import all necessary packages and functions.\n",
    "import csv\n",
    "from datetime import datetime\n",
    "import numpy as np\n",
    "import pandas as pd\n",
    "import os\n",
    "from IPython.display import display\n",
    "%matplotlib inline"
   ]
  },
  {
   "cell_type": "code",
   "execution_count": 2,
   "metadata": {
    "collapsed": false
   },
   "outputs": [
    {
     "data": {
      "text/plain": [
       "'C:\\\\Users\\\\cguzm_000\\\\Desktop\\\\Jupyter Projects'"
      ]
     },
     "execution_count": 2,
     "metadata": {},
     "output_type": "execute_result"
    }
   ],
   "source": [
    "# Get working directory\n",
    "os.getcwd()"
   ]
  },
  {
   "cell_type": "code",
   "execution_count": 3,
   "metadata": {
    "collapsed": false
   },
   "outputs": [],
   "source": [
    "# Change wortrip_data201402king directory\n",
    "os.chdir('C:\\\\Users\\\\cguzm_000' \\\n",
    "         '\\\\Desktop\\\\Jupyter Projects\\\\dandp0-bikeshareanalysis')"
   ]
  },
  {
   "cell_type": "code",
   "execution_count": 4,
   "metadata": {
    "collapsed": false
   },
   "outputs": [],
   "source": [
    "# first half of trip data\n",
    "trip_data201402 = pd.read_csv('201402_trip_data.csv')\n",
    "# second half of trip data\n",
    "trip_data201408 = pd.read_csv('201408_trip_data.csv')"
   ]
  },
  {
   "cell_type": "code",
   "execution_count": 5,
   "metadata": {
    "collapsed": false
   },
   "outputs": [
    {
     "data": {
      "text/html": [
       "<div>\n",
       "<table border=\"1\" class=\"dataframe\">\n",
       "  <thead>\n",
       "    <tr style=\"text-align: right;\">\n",
       "      <th></th>\n",
       "      <th>Trip ID</th>\n",
       "      <th>Duration</th>\n",
       "      <th>Start Date</th>\n",
       "      <th>Start Station</th>\n",
       "      <th>Start Terminal</th>\n",
       "      <th>End Date</th>\n",
       "      <th>End Station</th>\n",
       "      <th>End Terminal</th>\n",
       "      <th>Bike #</th>\n",
       "      <th>Subscription Type</th>\n",
       "      <th>Zip Code</th>\n",
       "    </tr>\n",
       "  </thead>\n",
       "  <tbody>\n",
       "    <tr>\n",
       "      <th>0</th>\n",
       "      <td>4576</td>\n",
       "      <td>63</td>\n",
       "      <td>8/29/2013 14:13</td>\n",
       "      <td>South Van Ness at Market</td>\n",
       "      <td>66</td>\n",
       "      <td>8/29/2013 14:14</td>\n",
       "      <td>South Van Ness at Market</td>\n",
       "      <td>66</td>\n",
       "      <td>520</td>\n",
       "      <td>Subscriber</td>\n",
       "      <td>94127</td>\n",
       "    </tr>\n",
       "    <tr>\n",
       "      <th>1</th>\n",
       "      <td>4607</td>\n",
       "      <td>70</td>\n",
       "      <td>8/29/2013 14:42</td>\n",
       "      <td>San Jose City Hall</td>\n",
       "      <td>10</td>\n",
       "      <td>8/29/2013 14:43</td>\n",
       "      <td>San Jose City Hall</td>\n",
       "      <td>10</td>\n",
       "      <td>661</td>\n",
       "      <td>Subscriber</td>\n",
       "      <td>95138</td>\n",
       "    </tr>\n",
       "    <tr>\n",
       "      <th>2</th>\n",
       "      <td>4130</td>\n",
       "      <td>71</td>\n",
       "      <td>8/29/2013 10:16</td>\n",
       "      <td>Mountain View City Hall</td>\n",
       "      <td>27</td>\n",
       "      <td>8/29/2013 10:17</td>\n",
       "      <td>Mountain View City Hall</td>\n",
       "      <td>27</td>\n",
       "      <td>48</td>\n",
       "      <td>Subscriber</td>\n",
       "      <td>97214</td>\n",
       "    </tr>\n",
       "    <tr>\n",
       "      <th>3</th>\n",
       "      <td>4251</td>\n",
       "      <td>77</td>\n",
       "      <td>8/29/2013 11:29</td>\n",
       "      <td>San Jose City Hall</td>\n",
       "      <td>10</td>\n",
       "      <td>8/29/2013 11:30</td>\n",
       "      <td>San Jose City Hall</td>\n",
       "      <td>10</td>\n",
       "      <td>26</td>\n",
       "      <td>Subscriber</td>\n",
       "      <td>95060</td>\n",
       "    </tr>\n",
       "    <tr>\n",
       "      <th>4</th>\n",
       "      <td>4299</td>\n",
       "      <td>83</td>\n",
       "      <td>8/29/2013 12:02</td>\n",
       "      <td>South Van Ness at Market</td>\n",
       "      <td>66</td>\n",
       "      <td>8/29/2013 12:04</td>\n",
       "      <td>Market at 10th</td>\n",
       "      <td>67</td>\n",
       "      <td>319</td>\n",
       "      <td>Subscriber</td>\n",
       "      <td>94103</td>\n",
       "    </tr>\n",
       "  </tbody>\n",
       "</table>\n",
       "</div>"
      ],
      "text/plain": [
       "   Trip ID  Duration       Start Date             Start Station  \\\n",
       "0     4576        63  8/29/2013 14:13  South Van Ness at Market   \n",
       "1     4607        70  8/29/2013 14:42        San Jose City Hall   \n",
       "2     4130        71  8/29/2013 10:16   Mountain View City Hall   \n",
       "3     4251        77  8/29/2013 11:29        San Jose City Hall   \n",
       "4     4299        83  8/29/2013 12:02  South Van Ness at Market   \n",
       "\n",
       "   Start Terminal         End Date               End Station  End Terminal  \\\n",
       "0              66  8/29/2013 14:14  South Van Ness at Market            66   \n",
       "1              10  8/29/2013 14:43        San Jose City Hall            10   \n",
       "2              27  8/29/2013 10:17   Mountain View City Hall            27   \n",
       "3              10  8/29/2013 11:30        San Jose City Hall            10   \n",
       "4              66  8/29/2013 12:04            Market at 10th            67   \n",
       "\n",
       "   Bike # Subscription Type Zip Code  \n",
       "0     520        Subscriber    94127  \n",
       "1     661        Subscriber    95138  \n",
       "2      48        Subscriber    97214  \n",
       "3      26        Subscriber    95060  \n",
       "4     319        Subscriber    94103  "
      ]
     },
     "execution_count": 5,
     "metadata": {},
     "output_type": "execute_result"
    }
   ],
   "source": [
    "trip_data201402.head()"
   ]
  },
  {
   "cell_type": "code",
   "execution_count": 6,
   "metadata": {
    "collapsed": false
   },
   "outputs": [
    {
     "data": {
      "text/html": [
       "<div>\n",
       "<table border=\"1\" class=\"dataframe\">\n",
       "  <thead>\n",
       "    <tr style=\"text-align: right;\">\n",
       "      <th></th>\n",
       "      <th>Trip ID</th>\n",
       "      <th>Duration</th>\n",
       "      <th>Start Date</th>\n",
       "      <th>Start Station</th>\n",
       "      <th>Start Terminal</th>\n",
       "      <th>End Date</th>\n",
       "      <th>End Station</th>\n",
       "      <th>End Terminal</th>\n",
       "      <th>Bike #</th>\n",
       "      <th>Subscription Type</th>\n",
       "      <th>Zip Code</th>\n",
       "    </tr>\n",
       "  </thead>\n",
       "  <tbody>\n",
       "    <tr>\n",
       "      <th>144010</th>\n",
       "      <td>198771</td>\n",
       "      <td>385</td>\n",
       "      <td>2/28/2014 22:15</td>\n",
       "      <td>Powell Street BART</td>\n",
       "      <td>39</td>\n",
       "      <td>2/28/2014 22:22</td>\n",
       "      <td>South Van Ness at Market</td>\n",
       "      <td>66</td>\n",
       "      <td>483</td>\n",
       "      <td>Subscriber</td>\n",
       "      <td>94404</td>\n",
       "    </tr>\n",
       "    <tr>\n",
       "      <th>144011</th>\n",
       "      <td>198772</td>\n",
       "      <td>145</td>\n",
       "      <td>2/28/2014 22:38</td>\n",
       "      <td>Commercial at Montgomery</td>\n",
       "      <td>45</td>\n",
       "      <td>2/28/2014 22:40</td>\n",
       "      <td>Davis at Jackson</td>\n",
       "      <td>42</td>\n",
       "      <td>425</td>\n",
       "      <td>Subscriber</td>\n",
       "      <td>94111</td>\n",
       "    </tr>\n",
       "    <tr>\n",
       "      <th>144012</th>\n",
       "      <td>198773</td>\n",
       "      <td>677</td>\n",
       "      <td>2/28/2014 22:45</td>\n",
       "      <td>Embarcadero at Sansome</td>\n",
       "      <td>60</td>\n",
       "      <td>2/28/2014 22:56</td>\n",
       "      <td>Market at 4th</td>\n",
       "      <td>76</td>\n",
       "      <td>438</td>\n",
       "      <td>Subscriber</td>\n",
       "      <td>94102</td>\n",
       "    </tr>\n",
       "    <tr>\n",
       "      <th>144013</th>\n",
       "      <td>198774</td>\n",
       "      <td>64128</td>\n",
       "      <td>2/28/2014 23:01</td>\n",
       "      <td>Civic Center BART (7th at Market)</td>\n",
       "      <td>72</td>\n",
       "      <td>3/1/2014 16:50</td>\n",
       "      <td>Harry Bridges Plaza (Ferry Building)</td>\n",
       "      <td>50</td>\n",
       "      <td>414</td>\n",
       "      <td>Customer</td>\n",
       "      <td>94124</td>\n",
       "    </tr>\n",
       "    <tr>\n",
       "      <th>144014</th>\n",
       "      <td>198775</td>\n",
       "      <td>570</td>\n",
       "      <td>2/28/2014 23:20</td>\n",
       "      <td>2nd at South Park</td>\n",
       "      <td>64</td>\n",
       "      <td>2/28/2014 23:30</td>\n",
       "      <td>Townsend at 7th</td>\n",
       "      <td>65</td>\n",
       "      <td>577</td>\n",
       "      <td>Subscriber</td>\n",
       "      <td>94107</td>\n",
       "    </tr>\n",
       "  </tbody>\n",
       "</table>\n",
       "</div>"
      ],
      "text/plain": [
       "        Trip ID  Duration       Start Date                      Start Station  \\\n",
       "144010   198771       385  2/28/2014 22:15                 Powell Street BART   \n",
       "144011   198772       145  2/28/2014 22:38           Commercial at Montgomery   \n",
       "144012   198773       677  2/28/2014 22:45             Embarcadero at Sansome   \n",
       "144013   198774     64128  2/28/2014 23:01  Civic Center BART (7th at Market)   \n",
       "144014   198775       570  2/28/2014 23:20                  2nd at South Park   \n",
       "\n",
       "        Start Terminal         End Date                           End Station  \\\n",
       "144010              39  2/28/2014 22:22              South Van Ness at Market   \n",
       "144011              45  2/28/2014 22:40                      Davis at Jackson   \n",
       "144012              60  2/28/2014 22:56                         Market at 4th   \n",
       "144013              72   3/1/2014 16:50  Harry Bridges Plaza (Ferry Building)   \n",
       "144014              64  2/28/2014 23:30                       Townsend at 7th   \n",
       "\n",
       "        End Terminal  Bike # Subscription Type Zip Code  \n",
       "144010            66     483        Subscriber    94404  \n",
       "144011            42     425        Subscriber    94111  \n",
       "144012            76     438        Subscriber    94102  \n",
       "144013            50     414          Customer    94124  \n",
       "144014            65     577        Subscriber    94107  "
      ]
     },
     "execution_count": 6,
     "metadata": {},
     "output_type": "execute_result"
    }
   ],
   "source": [
    "trip_data201402.tail()"
   ]
  },
  {
   "cell_type": "code",
   "execution_count": 7,
   "metadata": {
    "collapsed": false,
    "scrolled": true
   },
   "outputs": [
    {
     "data": {
      "text/html": [
       "<div>\n",
       "<table border=\"1\" class=\"dataframe\">\n",
       "  <thead>\n",
       "    <tr style=\"text-align: right;\">\n",
       "      <th></th>\n",
       "      <th>Trip ID</th>\n",
       "      <th>Duration</th>\n",
       "      <th>Start Date</th>\n",
       "      <th>Start Station</th>\n",
       "      <th>Start Terminal</th>\n",
       "      <th>End Date</th>\n",
       "      <th>End Station</th>\n",
       "      <th>End Terminal</th>\n",
       "      <th>Bike #</th>\n",
       "      <th>Subscriber Type</th>\n",
       "      <th>Zip Code</th>\n",
       "    </tr>\n",
       "  </thead>\n",
       "  <tbody>\n",
       "    <tr>\n",
       "      <th>0</th>\n",
       "      <td>432946</td>\n",
       "      <td>406</td>\n",
       "      <td>8/31/2014 22:31</td>\n",
       "      <td>Mountain View Caltrain Station</td>\n",
       "      <td>28</td>\n",
       "      <td>8/31/2014 22:38</td>\n",
       "      <td>Castro Street and El Camino Real</td>\n",
       "      <td>32</td>\n",
       "      <td>17</td>\n",
       "      <td>Subscriber</td>\n",
       "      <td>94040</td>\n",
       "    </tr>\n",
       "    <tr>\n",
       "      <th>1</th>\n",
       "      <td>432945</td>\n",
       "      <td>468</td>\n",
       "      <td>8/31/2014 22:07</td>\n",
       "      <td>Beale at Market</td>\n",
       "      <td>56</td>\n",
       "      <td>8/31/2014 22:15</td>\n",
       "      <td>Market at 4th</td>\n",
       "      <td>76</td>\n",
       "      <td>509</td>\n",
       "      <td>Customer</td>\n",
       "      <td>11231</td>\n",
       "    </tr>\n",
       "    <tr>\n",
       "      <th>2</th>\n",
       "      <td>432944</td>\n",
       "      <td>534</td>\n",
       "      <td>8/31/2014 22:06</td>\n",
       "      <td>Beale at Market</td>\n",
       "      <td>56</td>\n",
       "      <td>8/31/2014 22:15</td>\n",
       "      <td>Market at 4th</td>\n",
       "      <td>76</td>\n",
       "      <td>342</td>\n",
       "      <td>Customer</td>\n",
       "      <td>11231</td>\n",
       "    </tr>\n",
       "    <tr>\n",
       "      <th>3</th>\n",
       "      <td>432942</td>\n",
       "      <td>1041</td>\n",
       "      <td>8/31/2014 21:45</td>\n",
       "      <td>Embarcadero at Sansome</td>\n",
       "      <td>60</td>\n",
       "      <td>8/31/2014 22:02</td>\n",
       "      <td>Steuart at Market</td>\n",
       "      <td>74</td>\n",
       "      <td>603</td>\n",
       "      <td>Customer</td>\n",
       "      <td>94521</td>\n",
       "    </tr>\n",
       "    <tr>\n",
       "      <th>4</th>\n",
       "      <td>432941</td>\n",
       "      <td>1091</td>\n",
       "      <td>8/31/2014 21:44</td>\n",
       "      <td>Embarcadero at Sansome</td>\n",
       "      <td>60</td>\n",
       "      <td>8/31/2014 22:02</td>\n",
       "      <td>Steuart at Market</td>\n",
       "      <td>74</td>\n",
       "      <td>598</td>\n",
       "      <td>Customer</td>\n",
       "      <td>94521</td>\n",
       "    </tr>\n",
       "  </tbody>\n",
       "</table>\n",
       "</div>"
      ],
      "text/plain": [
       "   Trip ID  Duration       Start Date                   Start Station  \\\n",
       "0   432946       406  8/31/2014 22:31  Mountain View Caltrain Station   \n",
       "1   432945       468  8/31/2014 22:07                 Beale at Market   \n",
       "2   432944       534  8/31/2014 22:06                 Beale at Market   \n",
       "3   432942      1041  8/31/2014 21:45          Embarcadero at Sansome   \n",
       "4   432941      1091  8/31/2014 21:44          Embarcadero at Sansome   \n",
       "\n",
       "   Start Terminal         End Date                       End Station  \\\n",
       "0              28  8/31/2014 22:38  Castro Street and El Camino Real   \n",
       "1              56  8/31/2014 22:15                     Market at 4th   \n",
       "2              56  8/31/2014 22:15                     Market at 4th   \n",
       "3              60  8/31/2014 22:02                 Steuart at Market   \n",
       "4              60  8/31/2014 22:02                 Steuart at Market   \n",
       "\n",
       "   End Terminal  Bike # Subscriber Type Zip Code  \n",
       "0            32      17      Subscriber    94040  \n",
       "1            76     509        Customer    11231  \n",
       "2            76     342        Customer    11231  \n",
       "3            74     603        Customer    94521  \n",
       "4            74     598        Customer    94521  "
      ]
     },
     "execution_count": 7,
     "metadata": {},
     "output_type": "execute_result"
    }
   ],
   "source": [
    "trip_data201408.head()"
   ]
  },
  {
   "cell_type": "code",
   "execution_count": 8,
   "metadata": {
    "collapsed": false
   },
   "outputs": [
    {
     "data": {
      "text/html": [
       "<div>\n",
       "<table border=\"1\" class=\"dataframe\">\n",
       "  <thead>\n",
       "    <tr style=\"text-align: right;\">\n",
       "      <th></th>\n",
       "      <th>Trip ID</th>\n",
       "      <th>Duration</th>\n",
       "      <th>Start Date</th>\n",
       "      <th>Start Station</th>\n",
       "      <th>Start Terminal</th>\n",
       "      <th>End Date</th>\n",
       "      <th>End Station</th>\n",
       "      <th>End Terminal</th>\n",
       "      <th>Bike #</th>\n",
       "      <th>Subscriber Type</th>\n",
       "      <th>Zip Code</th>\n",
       "    </tr>\n",
       "  </thead>\n",
       "  <tbody>\n",
       "    <tr>\n",
       "      <th>171787</th>\n",
       "      <td>198780</td>\n",
       "      <td>429</td>\n",
       "      <td>3/1/2014 0:42</td>\n",
       "      <td>Spear at Folsom</td>\n",
       "      <td>49</td>\n",
       "      <td>3/1/2014 0:49</td>\n",
       "      <td>Broadway St at Battery St</td>\n",
       "      <td>82</td>\n",
       "      <td>395</td>\n",
       "      <td>Subscriber</td>\n",
       "      <td>94105</td>\n",
       "    </tr>\n",
       "    <tr>\n",
       "      <th>171788</th>\n",
       "      <td>198779</td>\n",
       "      <td>179</td>\n",
       "      <td>3/1/2014 0:22</td>\n",
       "      <td>Powell Street BART</td>\n",
       "      <td>39</td>\n",
       "      <td>3/1/2014 0:25</td>\n",
       "      <td>Market at 4th</td>\n",
       "      <td>76</td>\n",
       "      <td>439</td>\n",
       "      <td>Subscriber</td>\n",
       "      <td>94107</td>\n",
       "    </tr>\n",
       "    <tr>\n",
       "      <th>171789</th>\n",
       "      <td>198778</td>\n",
       "      <td>224</td>\n",
       "      <td>3/1/2014 0:21</td>\n",
       "      <td>Civic Center BART (7th at Market)</td>\n",
       "      <td>72</td>\n",
       "      <td>3/1/2014 0:25</td>\n",
       "      <td>Golden Gate at Polk</td>\n",
       "      <td>59</td>\n",
       "      <td>380</td>\n",
       "      <td>Subscriber</td>\n",
       "      <td>94103</td>\n",
       "    </tr>\n",
       "    <tr>\n",
       "      <th>171790</th>\n",
       "      <td>198777</td>\n",
       "      <td>445</td>\n",
       "      <td>3/1/2014 0:16</td>\n",
       "      <td>San Francisco Caltrain (Townsend at 4th)</td>\n",
       "      <td>70</td>\n",
       "      <td>3/1/2014 0:23</td>\n",
       "      <td>Embarcadero at Bryant</td>\n",
       "      <td>54</td>\n",
       "      <td>268</td>\n",
       "      <td>Subscriber</td>\n",
       "      <td>94105</td>\n",
       "    </tr>\n",
       "    <tr>\n",
       "      <th>171791</th>\n",
       "      <td>198776</td>\n",
       "      <td>177</td>\n",
       "      <td>3/1/2014 0:14</td>\n",
       "      <td>Yerba Buena Center of the Arts (3rd @ Howard)</td>\n",
       "      <td>68</td>\n",
       "      <td>3/1/2014 0:17</td>\n",
       "      <td>Market at Sansome</td>\n",
       "      <td>77</td>\n",
       "      <td>398</td>\n",
       "      <td>Subscriber</td>\n",
       "      <td>94105</td>\n",
       "    </tr>\n",
       "  </tbody>\n",
       "</table>\n",
       "</div>"
      ],
      "text/plain": [
       "        Trip ID  Duration     Start Date  \\\n",
       "171787   198780       429  3/1/2014 0:42   \n",
       "171788   198779       179  3/1/2014 0:22   \n",
       "171789   198778       224  3/1/2014 0:21   \n",
       "171790   198777       445  3/1/2014 0:16   \n",
       "171791   198776       177  3/1/2014 0:14   \n",
       "\n",
       "                                        Start Station  Start Terminal  \\\n",
       "171787                                Spear at Folsom              49   \n",
       "171788                             Powell Street BART              39   \n",
       "171789              Civic Center BART (7th at Market)              72   \n",
       "171790       San Francisco Caltrain (Townsend at 4th)              70   \n",
       "171791  Yerba Buena Center of the Arts (3rd @ Howard)              68   \n",
       "\n",
       "             End Date                End Station  End Terminal  Bike #  \\\n",
       "171787  3/1/2014 0:49  Broadway St at Battery St            82     395   \n",
       "171788  3/1/2014 0:25              Market at 4th            76     439   \n",
       "171789  3/1/2014 0:25        Golden Gate at Polk            59     380   \n",
       "171790  3/1/2014 0:23      Embarcadero at Bryant            54     268   \n",
       "171791  3/1/2014 0:17          Market at Sansome            77     398   \n",
       "\n",
       "       Subscriber Type Zip Code  \n",
       "171787      Subscriber    94105  \n",
       "171788      Subscriber    94107  \n",
       "171789      Subscriber    94103  \n",
       "171790      Subscriber    94105  \n",
       "171791      Subscriber    94105  "
      ]
     },
     "execution_count": 8,
     "metadata": {},
     "output_type": "execute_result"
    }
   ],
   "source": [
    "trip_data201408.tail()"
   ]
  },
  {
   "cell_type": "code",
   "execution_count": 9,
   "metadata": {
    "collapsed": false,
    "scrolled": true
   },
   "outputs": [
    {
     "data": {
      "text/html": [
       "<div>\n",
       "<table border=\"1\" class=\"dataframe\">\n",
       "  <thead>\n",
       "    <tr style=\"text-align: right;\">\n",
       "      <th></th>\n",
       "      <th>station_id</th>\n",
       "      <th>name</th>\n",
       "      <th>lat</th>\n",
       "      <th>long</th>\n",
       "      <th>dockcount</th>\n",
       "      <th>landmark</th>\n",
       "      <th>installation</th>\n",
       "    </tr>\n",
       "  </thead>\n",
       "  <tbody>\n",
       "    <tr>\n",
       "      <th>0</th>\n",
       "      <td>2</td>\n",
       "      <td>San Jose Diridon Caltrain Station</td>\n",
       "      <td>37.329732</td>\n",
       "      <td>-121.901782</td>\n",
       "      <td>27</td>\n",
       "      <td>San Jose</td>\n",
       "      <td>8/6/2013</td>\n",
       "    </tr>\n",
       "    <tr>\n",
       "      <th>1</th>\n",
       "      <td>3</td>\n",
       "      <td>San Jose Civic Center</td>\n",
       "      <td>37.330698</td>\n",
       "      <td>-121.888979</td>\n",
       "      <td>15</td>\n",
       "      <td>San Jose</td>\n",
       "      <td>8/5/2013</td>\n",
       "    </tr>\n",
       "    <tr>\n",
       "      <th>2</th>\n",
       "      <td>4</td>\n",
       "      <td>Santa Clara at Almaden</td>\n",
       "      <td>37.333988</td>\n",
       "      <td>-121.894902</td>\n",
       "      <td>11</td>\n",
       "      <td>San Jose</td>\n",
       "      <td>8/6/2013</td>\n",
       "    </tr>\n",
       "    <tr>\n",
       "      <th>3</th>\n",
       "      <td>5</td>\n",
       "      <td>Adobe on Almaden</td>\n",
       "      <td>37.331415</td>\n",
       "      <td>-121.893200</td>\n",
       "      <td>19</td>\n",
       "      <td>San Jose</td>\n",
       "      <td>8/5/2013</td>\n",
       "    </tr>\n",
       "    <tr>\n",
       "      <th>4</th>\n",
       "      <td>6</td>\n",
       "      <td>San Pedro Square</td>\n",
       "      <td>37.336721</td>\n",
       "      <td>-121.894074</td>\n",
       "      <td>15</td>\n",
       "      <td>San Jose</td>\n",
       "      <td>8/7/2013</td>\n",
       "    </tr>\n",
       "  </tbody>\n",
       "</table>\n",
       "</div>"
      ],
      "text/plain": [
       "   station_id                               name        lat        long  \\\n",
       "0           2  San Jose Diridon Caltrain Station  37.329732 -121.901782   \n",
       "1           3              San Jose Civic Center  37.330698 -121.888979   \n",
       "2           4             Santa Clara at Almaden  37.333988 -121.894902   \n",
       "3           5                   Adobe on Almaden  37.331415 -121.893200   \n",
       "4           6                   San Pedro Square  37.336721 -121.894074   \n",
       "\n",
       "   dockcount  landmark installation  \n",
       "0         27  San Jose     8/6/2013  \n",
       "1         15  San Jose     8/5/2013  \n",
       "2         11  San Jose     8/6/2013  \n",
       "3         19  San Jose     8/5/2013  \n",
       "4         15  San Jose     8/7/2013  "
      ]
     },
     "execution_count": 9,
     "metadata": {},
     "output_type": "execute_result"
    }
   ],
   "source": [
    "#Display the first few rows of the station data file\n",
    "\n",
    "station_info = pd.read_csv('201402_station_data.csv')\n",
    "station_info.head()"
   ]
  },
  {
   "cell_type": "code",
   "execution_count": 10,
   "metadata": {
    "collapsed": false,
    "scrolled": false
   },
   "outputs": [
    {
     "data": {
      "text/html": [
       "<div>\n",
       "<table border=\"1\" class=\"dataframe\">\n",
       "  <thead>\n",
       "    <tr style=\"text-align: right;\">\n",
       "      <th></th>\n",
       "      <th>station_id</th>\n",
       "      <th>name</th>\n",
       "      <th>lat</th>\n",
       "      <th>long</th>\n",
       "      <th>dockcount</th>\n",
       "      <th>landmark</th>\n",
       "      <th>installation</th>\n",
       "    </tr>\n",
       "  </thead>\n",
       "  <tbody>\n",
       "    <tr>\n",
       "      <th>64</th>\n",
       "      <td>76</td>\n",
       "      <td>Market at 4th</td>\n",
       "      <td>37.786305</td>\n",
       "      <td>-122.404966</td>\n",
       "      <td>19</td>\n",
       "      <td>San Francisco</td>\n",
       "      <td>8/25/2013</td>\n",
       "    </tr>\n",
       "    <tr>\n",
       "      <th>65</th>\n",
       "      <td>77</td>\n",
       "      <td>Market at Sansome</td>\n",
       "      <td>37.789625</td>\n",
       "      <td>-122.400811</td>\n",
       "      <td>27</td>\n",
       "      <td>San Francisco</td>\n",
       "      <td>8/25/2013</td>\n",
       "    </tr>\n",
       "    <tr>\n",
       "      <th>66</th>\n",
       "      <td>80</td>\n",
       "      <td>San Jose Government Center</td>\n",
       "      <td>37.352601</td>\n",
       "      <td>-121.905733</td>\n",
       "      <td>15</td>\n",
       "      <td>San Jose</td>\n",
       "      <td>12/31/2013</td>\n",
       "    </tr>\n",
       "    <tr>\n",
       "      <th>67</th>\n",
       "      <td>82</td>\n",
       "      <td>Broadway St at Battery St</td>\n",
       "      <td>37.798541</td>\n",
       "      <td>-122.400862</td>\n",
       "      <td>15</td>\n",
       "      <td>San Francisco</td>\n",
       "      <td>1/22/2014</td>\n",
       "    </tr>\n",
       "    <tr>\n",
       "      <th>68</th>\n",
       "      <td>83</td>\n",
       "      <td>Mezes Park</td>\n",
       "      <td>37.491269</td>\n",
       "      <td>-122.236234</td>\n",
       "      <td>15</td>\n",
       "      <td>Redwood City</td>\n",
       "      <td>2/20/2014</td>\n",
       "    </tr>\n",
       "  </tbody>\n",
       "</table>\n",
       "</div>"
      ],
      "text/plain": [
       "    station_id                        name        lat        long  dockcount  \\\n",
       "64          76               Market at 4th  37.786305 -122.404966         19   \n",
       "65          77           Market at Sansome  37.789625 -122.400811         27   \n",
       "66          80  San Jose Government Center  37.352601 -121.905733         15   \n",
       "67          82   Broadway St at Battery St  37.798541 -122.400862         15   \n",
       "68          83                  Mezes Park  37.491269 -122.236234         15   \n",
       "\n",
       "         landmark installation  \n",
       "64  San Francisco    8/25/2013  \n",
       "65  San Francisco    8/25/2013  \n",
       "66       San Jose   12/31/2013  \n",
       "67  San Francisco    1/22/2014  \n",
       "68   Redwood City    2/20/2014  "
      ]
     },
     "execution_count": 10,
     "metadata": {},
     "output_type": "execute_result"
    }
   ],
   "source": [
    "station_info.tail()            "
   ]
  },
  {
   "cell_type": "code",
   "execution_count": 11,
   "metadata": {
    "collapsed": false
   },
   "outputs": [
    {
     "name": "stdout",
     "output_type": "stream",
     "text": [
      "<class 'pandas.core.frame.DataFrame'>\n",
      "RangeIndex: 69 entries, 0 to 68\n",
      "Data columns (total 7 columns):\n",
      "station_id      69 non-null int64\n",
      "name            69 non-null object\n",
      "lat             69 non-null float64\n",
      "long            69 non-null float64\n",
      "dockcount       69 non-null int64\n",
      "landmark        69 non-null object\n",
      "installation    69 non-null object\n",
      "dtypes: float64(2), int64(2), object(3)\n",
      "memory usage: 3.8+ KB\n"
     ]
    }
   ],
   "source": [
    "station_info.info()"
   ]
  },
  {
   "cell_type": "code",
   "execution_count": 12,
   "metadata": {
    "collapsed": false
   },
   "outputs": [
    {
     "data": {
      "text/plain": [
       "Index([u'station_id', u'name', u'lat', u'long', u'dockcount', u'landmark',\n",
       "       u'installation'],\n",
       "      dtype='object')"
      ]
     },
     "execution_count": 12,
     "metadata": {},
     "output_type": "execute_result"
    }
   ],
   "source": [
    "station_info.columns"
   ]
  },
  {
   "cell_type": "code",
   "execution_count": 13,
   "metadata": {
    "collapsed": false
   },
   "outputs": [
    {
     "data": {
      "text/html": [
       "<div>\n",
       "<table border=\"1\" class=\"dataframe\">\n",
       "  <thead>\n",
       "    <tr style=\"text-align: right;\">\n",
       "      <th></th>\n",
       "      <th>station_id</th>\n",
       "      <th>lat</th>\n",
       "      <th>long</th>\n",
       "      <th>dockcount</th>\n",
       "    </tr>\n",
       "  </thead>\n",
       "  <tbody>\n",
       "    <tr>\n",
       "      <th>count</th>\n",
       "      <td>69.000000</td>\n",
       "      <td>69.000000</td>\n",
       "      <td>69.000000</td>\n",
       "      <td>69.000000</td>\n",
       "    </tr>\n",
       "    <tr>\n",
       "      <th>mean</th>\n",
       "      <td>42.405797</td>\n",
       "      <td>37.593840</td>\n",
       "      <td>-122.223453</td>\n",
       "      <td>17.695652</td>\n",
       "    </tr>\n",
       "    <tr>\n",
       "      <th>std</th>\n",
       "      <td>23.822455</td>\n",
       "      <td>0.202682</td>\n",
       "      <td>0.207269</td>\n",
       "      <td>4.026765</td>\n",
       "    </tr>\n",
       "    <tr>\n",
       "      <th>min</th>\n",
       "      <td>2.000000</td>\n",
       "      <td>37.329732</td>\n",
       "      <td>-122.418954</td>\n",
       "      <td>11.000000</td>\n",
       "    </tr>\n",
       "    <tr>\n",
       "      <th>25%</th>\n",
       "      <td>24.000000</td>\n",
       "      <td>37.390277</td>\n",
       "      <td>-122.400811</td>\n",
       "      <td>15.000000</td>\n",
       "    </tr>\n",
       "    <tr>\n",
       "      <th>50%</th>\n",
       "      <td>42.000000</td>\n",
       "      <td>37.771058</td>\n",
       "      <td>-122.388013</td>\n",
       "      <td>15.000000</td>\n",
       "    </tr>\n",
       "    <tr>\n",
       "      <th>75%</th>\n",
       "      <td>63.000000</td>\n",
       "      <td>37.788446</td>\n",
       "      <td>-122.081896</td>\n",
       "      <td>19.000000</td>\n",
       "    </tr>\n",
       "    <tr>\n",
       "      <th>max</th>\n",
       "      <td>83.000000</td>\n",
       "      <td>37.804770</td>\n",
       "      <td>-121.877349</td>\n",
       "      <td>27.000000</td>\n",
       "    </tr>\n",
       "  </tbody>\n",
       "</table>\n",
       "</div>"
      ],
      "text/plain": [
       "       station_id        lat        long  dockcount\n",
       "count   69.000000  69.000000   69.000000  69.000000\n",
       "mean    42.405797  37.593840 -122.223453  17.695652\n",
       "std     23.822455   0.202682    0.207269   4.026765\n",
       "min      2.000000  37.329732 -122.418954  11.000000\n",
       "25%     24.000000  37.390277 -122.400811  15.000000\n",
       "50%     42.000000  37.771058 -122.388013  15.000000\n",
       "75%     63.000000  37.788446 -122.081896  19.000000\n",
       "max     83.000000  37.804770 -121.877349  27.000000"
      ]
     },
     "execution_count": 13,
     "metadata": {},
     "output_type": "execute_result"
    }
   ],
   "source": [
    "station_info.describe()"
   ]
  },
  {
   "cell_type": "markdown",
   "metadata": {},
   "source": [
    "## Condensing the data\n",
    "The dataframes will be condensed to only display the fields, trip duration, start time, start terminal, end terminal and subscription type.\n",
    "\n",
    "Before condensing the data tables, I will concatenate both trip data files first."
   ]
  },
  {
   "cell_type": "code",
   "execution_count": 14,
   "metadata": {
    "collapsed": false
   },
   "outputs": [
    {
     "data": {
      "text/html": [
       "<div>\n",
       "<table border=\"1\" class=\"dataframe\">\n",
       "  <thead>\n",
       "    <tr style=\"text-align: right;\">\n",
       "      <th></th>\n",
       "      <th>Trip ID</th>\n",
       "      <th>Duration</th>\n",
       "      <th>Start Date</th>\n",
       "      <th>Start Station</th>\n",
       "      <th>Start Terminal</th>\n",
       "      <th>End Date</th>\n",
       "      <th>End Station</th>\n",
       "      <th>End Terminal</th>\n",
       "      <th>Bike #</th>\n",
       "      <th>Subscription Type</th>\n",
       "      <th>Zip Code</th>\n",
       "    </tr>\n",
       "  </thead>\n",
       "  <tbody>\n",
       "    <tr>\n",
       "      <th>0</th>\n",
       "      <td>4576</td>\n",
       "      <td>63</td>\n",
       "      <td>8/29/2013 14:13</td>\n",
       "      <td>South Van Ness at Market</td>\n",
       "      <td>66</td>\n",
       "      <td>8/29/2013 14:14</td>\n",
       "      <td>South Van Ness at Market</td>\n",
       "      <td>66</td>\n",
       "      <td>520</td>\n",
       "      <td>Subscriber</td>\n",
       "      <td>94127</td>\n",
       "    </tr>\n",
       "    <tr>\n",
       "      <th>1</th>\n",
       "      <td>4607</td>\n",
       "      <td>70</td>\n",
       "      <td>8/29/2013 14:42</td>\n",
       "      <td>San Jose City Hall</td>\n",
       "      <td>10</td>\n",
       "      <td>8/29/2013 14:43</td>\n",
       "      <td>San Jose City Hall</td>\n",
       "      <td>10</td>\n",
       "      <td>661</td>\n",
       "      <td>Subscriber</td>\n",
       "      <td>95138</td>\n",
       "    </tr>\n",
       "    <tr>\n",
       "      <th>2</th>\n",
       "      <td>4130</td>\n",
       "      <td>71</td>\n",
       "      <td>8/29/2013 10:16</td>\n",
       "      <td>Mountain View City Hall</td>\n",
       "      <td>27</td>\n",
       "      <td>8/29/2013 10:17</td>\n",
       "      <td>Mountain View City Hall</td>\n",
       "      <td>27</td>\n",
       "      <td>48</td>\n",
       "      <td>Subscriber</td>\n",
       "      <td>97214</td>\n",
       "    </tr>\n",
       "    <tr>\n",
       "      <th>3</th>\n",
       "      <td>4251</td>\n",
       "      <td>77</td>\n",
       "      <td>8/29/2013 11:29</td>\n",
       "      <td>San Jose City Hall</td>\n",
       "      <td>10</td>\n",
       "      <td>8/29/2013 11:30</td>\n",
       "      <td>San Jose City Hall</td>\n",
       "      <td>10</td>\n",
       "      <td>26</td>\n",
       "      <td>Subscriber</td>\n",
       "      <td>95060</td>\n",
       "    </tr>\n",
       "    <tr>\n",
       "      <th>4</th>\n",
       "      <td>4299</td>\n",
       "      <td>83</td>\n",
       "      <td>8/29/2013 12:02</td>\n",
       "      <td>South Van Ness at Market</td>\n",
       "      <td>66</td>\n",
       "      <td>8/29/2013 12:04</td>\n",
       "      <td>Market at 10th</td>\n",
       "      <td>67</td>\n",
       "      <td>319</td>\n",
       "      <td>Subscriber</td>\n",
       "      <td>94103</td>\n",
       "    </tr>\n",
       "  </tbody>\n",
       "</table>\n",
       "</div>"
      ],
      "text/plain": [
       "   Trip ID  Duration       Start Date             Start Station  \\\n",
       "0     4576        63  8/29/2013 14:13  South Van Ness at Market   \n",
       "1     4607        70  8/29/2013 14:42        San Jose City Hall   \n",
       "2     4130        71  8/29/2013 10:16   Mountain View City Hall   \n",
       "3     4251        77  8/29/2013 11:29        San Jose City Hall   \n",
       "4     4299        83  8/29/2013 12:02  South Van Ness at Market   \n",
       "\n",
       "   Start Terminal         End Date               End Station  End Terminal  \\\n",
       "0              66  8/29/2013 14:14  South Van Ness at Market            66   \n",
       "1              10  8/29/2013 14:43        San Jose City Hall            10   \n",
       "2              27  8/29/2013 10:17   Mountain View City Hall            27   \n",
       "3              10  8/29/2013 11:30        San Jose City Hall            10   \n",
       "4              66  8/29/2013 12:04            Market at 10th            67   \n",
       "\n",
       "   Bike # Subscription Type Zip Code  \n",
       "0     520        Subscriber    94127  \n",
       "1     661        Subscriber    95138  \n",
       "2      48        Subscriber    97214  \n",
       "3      26        Subscriber    95060  \n",
       "4     319        Subscriber    94103  "
      ]
     },
     "execution_count": 14,
     "metadata": {},
     "output_type": "execute_result"
    }
   ],
   "source": [
    "trip_data201402.head()"
   ]
  },
  {
   "cell_type": "code",
   "execution_count": 15,
   "metadata": {
    "collapsed": false
   },
   "outputs": [
    {
     "data": {
      "text/html": [
       "<div>\n",
       "<table border=\"1\" class=\"dataframe\">\n",
       "  <thead>\n",
       "    <tr style=\"text-align: right;\">\n",
       "      <th></th>\n",
       "      <th>Trip ID</th>\n",
       "      <th>Duration</th>\n",
       "      <th>Start Date</th>\n",
       "      <th>Start Station</th>\n",
       "      <th>Start Terminal</th>\n",
       "      <th>End Date</th>\n",
       "      <th>End Station</th>\n",
       "      <th>End Terminal</th>\n",
       "      <th>Bike #</th>\n",
       "      <th>Subscriber Type</th>\n",
       "      <th>Zip Code</th>\n",
       "    </tr>\n",
       "  </thead>\n",
       "  <tbody>\n",
       "    <tr>\n",
       "      <th>0</th>\n",
       "      <td>432946</td>\n",
       "      <td>406</td>\n",
       "      <td>8/31/2014 22:31</td>\n",
       "      <td>Mountain View Caltrain Station</td>\n",
       "      <td>28</td>\n",
       "      <td>8/31/2014 22:38</td>\n",
       "      <td>Castro Street and El Camino Real</td>\n",
       "      <td>32</td>\n",
       "      <td>17</td>\n",
       "      <td>Subscriber</td>\n",
       "      <td>94040</td>\n",
       "    </tr>\n",
       "    <tr>\n",
       "      <th>1</th>\n",
       "      <td>432945</td>\n",
       "      <td>468</td>\n",
       "      <td>8/31/2014 22:07</td>\n",
       "      <td>Beale at Market</td>\n",
       "      <td>56</td>\n",
       "      <td>8/31/2014 22:15</td>\n",
       "      <td>Market at 4th</td>\n",
       "      <td>76</td>\n",
       "      <td>509</td>\n",
       "      <td>Customer</td>\n",
       "      <td>11231</td>\n",
       "    </tr>\n",
       "    <tr>\n",
       "      <th>2</th>\n",
       "      <td>432944</td>\n",
       "      <td>534</td>\n",
       "      <td>8/31/2014 22:06</td>\n",
       "      <td>Beale at Market</td>\n",
       "      <td>56</td>\n",
       "      <td>8/31/2014 22:15</td>\n",
       "      <td>Market at 4th</td>\n",
       "      <td>76</td>\n",
       "      <td>342</td>\n",
       "      <td>Customer</td>\n",
       "      <td>11231</td>\n",
       "    </tr>\n",
       "    <tr>\n",
       "      <th>3</th>\n",
       "      <td>432942</td>\n",
       "      <td>1041</td>\n",
       "      <td>8/31/2014 21:45</td>\n",
       "      <td>Embarcadero at Sansome</td>\n",
       "      <td>60</td>\n",
       "      <td>8/31/2014 22:02</td>\n",
       "      <td>Steuart at Market</td>\n",
       "      <td>74</td>\n",
       "      <td>603</td>\n",
       "      <td>Customer</td>\n",
       "      <td>94521</td>\n",
       "    </tr>\n",
       "    <tr>\n",
       "      <th>4</th>\n",
       "      <td>432941</td>\n",
       "      <td>1091</td>\n",
       "      <td>8/31/2014 21:44</td>\n",
       "      <td>Embarcadero at Sansome</td>\n",
       "      <td>60</td>\n",
       "      <td>8/31/2014 22:02</td>\n",
       "      <td>Steuart at Market</td>\n",
       "      <td>74</td>\n",
       "      <td>598</td>\n",
       "      <td>Customer</td>\n",
       "      <td>94521</td>\n",
       "    </tr>\n",
       "  </tbody>\n",
       "</table>\n",
       "</div>"
      ],
      "text/plain": [
       "   Trip ID  Duration       Start Date                   Start Station  \\\n",
       "0   432946       406  8/31/2014 22:31  Mountain View Caltrain Station   \n",
       "1   432945       468  8/31/2014 22:07                 Beale at Market   \n",
       "2   432944       534  8/31/2014 22:06                 Beale at Market   \n",
       "3   432942      1041  8/31/2014 21:45          Embarcadero at Sansome   \n",
       "4   432941      1091  8/31/2014 21:44          Embarcadero at Sansome   \n",
       "\n",
       "   Start Terminal         End Date                       End Station  \\\n",
       "0              28  8/31/2014 22:38  Castro Street and El Camino Real   \n",
       "1              56  8/31/2014 22:15                     Market at 4th   \n",
       "2              56  8/31/2014 22:15                     Market at 4th   \n",
       "3              60  8/31/2014 22:02                 Steuart at Market   \n",
       "4              60  8/31/2014 22:02                 Steuart at Market   \n",
       "\n",
       "   End Terminal  Bike # Subscriber Type Zip Code  \n",
       "0            32      17      Subscriber    94040  \n",
       "1            76     509        Customer    11231  \n",
       "2            76     342        Customer    11231  \n",
       "3            74     603        Customer    94521  \n",
       "4            74     598        Customer    94521  "
      ]
     },
     "execution_count": 15,
     "metadata": {},
     "output_type": "execute_result"
    }
   ],
   "source": [
    "trip_data201408.head()"
   ]
  },
  {
   "cell_type": "markdown",
   "metadata": {},
   "source": [
    "Upon further examination, we see that the column name **Subscription Type** for trip_data201402 is labeled slightly differently as, **Subscriber Type** in trip_data201408. This should be fixed before concatenation."
   ]
  },
  {
   "cell_type": "code",
   "execution_count": 16,
   "metadata": {
    "collapsed": false
   },
   "outputs": [
    {
     "data": {
      "text/plain": [
       "Index([u'Trip ID', u'Duration', u'Start Date', u'Start Station',\n",
       "       u'Start Terminal', u'End Date', u'End Station', u'End Terminal',\n",
       "       u'Bike #', u'Subscriber Type', u'Zip Code'],\n",
       "      dtype='object')"
      ]
     },
     "execution_count": 16,
     "metadata": {},
     "output_type": "execute_result"
    }
   ],
   "source": [
    "#Test changing columns\n",
    "test_trip_data201402 = trip_data201402\n",
    "test_trip_data201402.columns = trip_data201402.columns\n",
    "test_trip_data201402.columns = trip_data201408.columns\n",
    "trip_data201402.columns"
   ]
  },
  {
   "cell_type": "code",
   "execution_count": 17,
   "metadata": {
    "collapsed": false
   },
   "outputs": [
    {
     "data": {
      "text/html": [
       "<div>\n",
       "<table border=\"1\" class=\"dataframe\">\n",
       "  <thead>\n",
       "    <tr style=\"text-align: right;\">\n",
       "      <th></th>\n",
       "      <th>TripID</th>\n",
       "      <th>Duration</th>\n",
       "      <th>StartDate</th>\n",
       "      <th>StartStation</th>\n",
       "      <th>StartTerminal</th>\n",
       "      <th>EndDate</th>\n",
       "      <th>EndStation</th>\n",
       "      <th>EndTerminal</th>\n",
       "      <th>Bike #</th>\n",
       "      <th>SubscriberType</th>\n",
       "      <th>ZipCode</th>\n",
       "    </tr>\n",
       "  </thead>\n",
       "  <tbody>\n",
       "    <tr>\n",
       "      <th>0</th>\n",
       "      <td>4576</td>\n",
       "      <td>63</td>\n",
       "      <td>8/29/2013 14:13</td>\n",
       "      <td>South Van Ness at Market</td>\n",
       "      <td>66</td>\n",
       "      <td>8/29/2013 14:14</td>\n",
       "      <td>South Van Ness at Market</td>\n",
       "      <td>66</td>\n",
       "      <td>520</td>\n",
       "      <td>Subscriber</td>\n",
       "      <td>94127</td>\n",
       "    </tr>\n",
       "    <tr>\n",
       "      <th>1</th>\n",
       "      <td>4607</td>\n",
       "      <td>70</td>\n",
       "      <td>8/29/2013 14:42</td>\n",
       "      <td>San Jose City Hall</td>\n",
       "      <td>10</td>\n",
       "      <td>8/29/2013 14:43</td>\n",
       "      <td>San Jose City Hall</td>\n",
       "      <td>10</td>\n",
       "      <td>661</td>\n",
       "      <td>Subscriber</td>\n",
       "      <td>95138</td>\n",
       "    </tr>\n",
       "    <tr>\n",
       "      <th>2</th>\n",
       "      <td>4130</td>\n",
       "      <td>71</td>\n",
       "      <td>8/29/2013 10:16</td>\n",
       "      <td>Mountain View City Hall</td>\n",
       "      <td>27</td>\n",
       "      <td>8/29/2013 10:17</td>\n",
       "      <td>Mountain View City Hall</td>\n",
       "      <td>27</td>\n",
       "      <td>48</td>\n",
       "      <td>Subscriber</td>\n",
       "      <td>97214</td>\n",
       "    </tr>\n",
       "    <tr>\n",
       "      <th>3</th>\n",
       "      <td>4251</td>\n",
       "      <td>77</td>\n",
       "      <td>8/29/2013 11:29</td>\n",
       "      <td>San Jose City Hall</td>\n",
       "      <td>10</td>\n",
       "      <td>8/29/2013 11:30</td>\n",
       "      <td>San Jose City Hall</td>\n",
       "      <td>10</td>\n",
       "      <td>26</td>\n",
       "      <td>Subscriber</td>\n",
       "      <td>95060</td>\n",
       "    </tr>\n",
       "    <tr>\n",
       "      <th>4</th>\n",
       "      <td>4299</td>\n",
       "      <td>83</td>\n",
       "      <td>8/29/2013 12:02</td>\n",
       "      <td>South Van Ness at Market</td>\n",
       "      <td>66</td>\n",
       "      <td>8/29/2013 12:04</td>\n",
       "      <td>Market at 10th</td>\n",
       "      <td>67</td>\n",
       "      <td>319</td>\n",
       "      <td>Subscriber</td>\n",
       "      <td>94103</td>\n",
       "    </tr>\n",
       "  </tbody>\n",
       "</table>\n",
       "</div>"
      ],
      "text/plain": [
       "   TripID  Duration        StartDate              StartStation  StartTerminal  \\\n",
       "0    4576        63  8/29/2013 14:13  South Van Ness at Market             66   \n",
       "1    4607        70  8/29/2013 14:42        San Jose City Hall             10   \n",
       "2    4130        71  8/29/2013 10:16   Mountain View City Hall             27   \n",
       "3    4251        77  8/29/2013 11:29        San Jose City Hall             10   \n",
       "4    4299        83  8/29/2013 12:02  South Van Ness at Market             66   \n",
       "\n",
       "           EndDate                EndStation  EndTerminal  Bike #  \\\n",
       "0  8/29/2013 14:14  South Van Ness at Market           66     520   \n",
       "1  8/29/2013 14:43        San Jose City Hall           10     661   \n",
       "2  8/29/2013 10:17   Mountain View City Hall           27      48   \n",
       "3  8/29/2013 11:30        San Jose City Hall           10      26   \n",
       "4  8/29/2013 12:04            Market at 10th           67     319   \n",
       "\n",
       "  SubscriberType ZipCode  \n",
       "0     Subscriber   94127  \n",
       "1     Subscriber   95138  \n",
       "2     Subscriber   97214  \n",
       "3     Subscriber   95060  \n",
       "4     Subscriber   94103  "
      ]
     },
     "execution_count": 17,
     "metadata": {},
     "output_type": "execute_result"
    }
   ],
   "source": [
    "#Fix up column names for easier use.\n",
    "test_trip_data201402.columns = [u'TripID', u'Duration', u'StartDate', u'StartStation',\n",
    "       u'StartTerminal', u'EndDate', u'EndStation', u'EndTerminal',\n",
    "       u'Bike #', u'SubscriberType', u'ZipCode']\n",
    "trip_data201408.columns = trip_data201402.columns\n",
    "trip_data201402.head()"
   ]
  },
  {
   "cell_type": "code",
   "execution_count": 18,
   "metadata": {
    "collapsed": true
   },
   "outputs": [],
   "source": [
    "# Concatentation of both data frames.\n",
    "bigdata = pd.concat([trip_data201402, trip_data201408], ignore_index=False)"
   ]
  },
  {
   "cell_type": "code",
   "execution_count": 19,
   "metadata": {
    "collapsed": false,
    "scrolled": true
   },
   "outputs": [
    {
     "data": {
      "text/html": [
       "<div>\n",
       "<table border=\"1\" class=\"dataframe\">\n",
       "  <thead>\n",
       "    <tr style=\"text-align: right;\">\n",
       "      <th></th>\n",
       "      <th>TripID</th>\n",
       "      <th>Duration</th>\n",
       "      <th>StartDate</th>\n",
       "      <th>StartStation</th>\n",
       "      <th>StartTerminal</th>\n",
       "      <th>EndDate</th>\n",
       "      <th>EndStation</th>\n",
       "      <th>EndTerminal</th>\n",
       "      <th>Bike #</th>\n",
       "      <th>SubscriberType</th>\n",
       "      <th>ZipCode</th>\n",
       "    </tr>\n",
       "  </thead>\n",
       "  <tbody>\n",
       "    <tr>\n",
       "      <th>0</th>\n",
       "      <td>4576</td>\n",
       "      <td>63</td>\n",
       "      <td>8/29/2013 14:13</td>\n",
       "      <td>South Van Ness at Market</td>\n",
       "      <td>66</td>\n",
       "      <td>8/29/2013 14:14</td>\n",
       "      <td>South Van Ness at Market</td>\n",
       "      <td>66</td>\n",
       "      <td>520</td>\n",
       "      <td>Subscriber</td>\n",
       "      <td>94127</td>\n",
       "    </tr>\n",
       "    <tr>\n",
       "      <th>1</th>\n",
       "      <td>4607</td>\n",
       "      <td>70</td>\n",
       "      <td>8/29/2013 14:42</td>\n",
       "      <td>San Jose City Hall</td>\n",
       "      <td>10</td>\n",
       "      <td>8/29/2013 14:43</td>\n",
       "      <td>San Jose City Hall</td>\n",
       "      <td>10</td>\n",
       "      <td>661</td>\n",
       "      <td>Subscriber</td>\n",
       "      <td>95138</td>\n",
       "    </tr>\n",
       "    <tr>\n",
       "      <th>2</th>\n",
       "      <td>4130</td>\n",
       "      <td>71</td>\n",
       "      <td>8/29/2013 10:16</td>\n",
       "      <td>Mountain View City Hall</td>\n",
       "      <td>27</td>\n",
       "      <td>8/29/2013 10:17</td>\n",
       "      <td>Mountain View City Hall</td>\n",
       "      <td>27</td>\n",
       "      <td>48</td>\n",
       "      <td>Subscriber</td>\n",
       "      <td>97214</td>\n",
       "    </tr>\n",
       "    <tr>\n",
       "      <th>3</th>\n",
       "      <td>4251</td>\n",
       "      <td>77</td>\n",
       "      <td>8/29/2013 11:29</td>\n",
       "      <td>San Jose City Hall</td>\n",
       "      <td>10</td>\n",
       "      <td>8/29/2013 11:30</td>\n",
       "      <td>San Jose City Hall</td>\n",
       "      <td>10</td>\n",
       "      <td>26</td>\n",
       "      <td>Subscriber</td>\n",
       "      <td>95060</td>\n",
       "    </tr>\n",
       "    <tr>\n",
       "      <th>4</th>\n",
       "      <td>4299</td>\n",
       "      <td>83</td>\n",
       "      <td>8/29/2013 12:02</td>\n",
       "      <td>South Van Ness at Market</td>\n",
       "      <td>66</td>\n",
       "      <td>8/29/2013 12:04</td>\n",
       "      <td>Market at 10th</td>\n",
       "      <td>67</td>\n",
       "      <td>319</td>\n",
       "      <td>Subscriber</td>\n",
       "      <td>94103</td>\n",
       "    </tr>\n",
       "  </tbody>\n",
       "</table>\n",
       "</div>"
      ],
      "text/plain": [
       "   TripID  Duration        StartDate              StartStation  StartTerminal  \\\n",
       "0    4576        63  8/29/2013 14:13  South Van Ness at Market             66   \n",
       "1    4607        70  8/29/2013 14:42        San Jose City Hall             10   \n",
       "2    4130        71  8/29/2013 10:16   Mountain View City Hall             27   \n",
       "3    4251        77  8/29/2013 11:29        San Jose City Hall             10   \n",
       "4    4299        83  8/29/2013 12:02  South Van Ness at Market             66   \n",
       "\n",
       "           EndDate                EndStation  EndTerminal  Bike #  \\\n",
       "0  8/29/2013 14:14  South Van Ness at Market           66     520   \n",
       "1  8/29/2013 14:43        San Jose City Hall           10     661   \n",
       "2  8/29/2013 10:17   Mountain View City Hall           27      48   \n",
       "3  8/29/2013 11:30        San Jose City Hall           10      26   \n",
       "4  8/29/2013 12:04            Market at 10th           67     319   \n",
       "\n",
       "  SubscriberType ZipCode  \n",
       "0     Subscriber   94127  \n",
       "1     Subscriber   95138  \n",
       "2     Subscriber   97214  \n",
       "3     Subscriber   95060  \n",
       "4     Subscriber   94103  "
      ]
     },
     "execution_count": 19,
     "metadata": {},
     "output_type": "execute_result"
    }
   ],
   "source": [
    "bigdata.head()"
   ]
  },
  {
   "cell_type": "code",
   "execution_count": 20,
   "metadata": {
    "collapsed": false
   },
   "outputs": [
    {
     "data": {
      "text/html": [
       "<div>\n",
       "<table border=\"1\" class=\"dataframe\">\n",
       "  <thead>\n",
       "    <tr style=\"text-align: right;\">\n",
       "      <th></th>\n",
       "      <th>TripID</th>\n",
       "      <th>Duration</th>\n",
       "      <th>StartDate</th>\n",
       "      <th>StartStation</th>\n",
       "      <th>StartTerminal</th>\n",
       "      <th>EndDate</th>\n",
       "      <th>EndStation</th>\n",
       "      <th>EndTerminal</th>\n",
       "      <th>Bike #</th>\n",
       "      <th>SubscriberType</th>\n",
       "      <th>ZipCode</th>\n",
       "    </tr>\n",
       "  </thead>\n",
       "  <tbody>\n",
       "    <tr>\n",
       "      <th>171787</th>\n",
       "      <td>198780</td>\n",
       "      <td>429</td>\n",
       "      <td>3/1/2014 0:42</td>\n",
       "      <td>Spear at Folsom</td>\n",
       "      <td>49</td>\n",
       "      <td>3/1/2014 0:49</td>\n",
       "      <td>Broadway St at Battery St</td>\n",
       "      <td>82</td>\n",
       "      <td>395</td>\n",
       "      <td>Subscriber</td>\n",
       "      <td>94105</td>\n",
       "    </tr>\n",
       "    <tr>\n",
       "      <th>171788</th>\n",
       "      <td>198779</td>\n",
       "      <td>179</td>\n",
       "      <td>3/1/2014 0:22</td>\n",
       "      <td>Powell Street BART</td>\n",
       "      <td>39</td>\n",
       "      <td>3/1/2014 0:25</td>\n",
       "      <td>Market at 4th</td>\n",
       "      <td>76</td>\n",
       "      <td>439</td>\n",
       "      <td>Subscriber</td>\n",
       "      <td>94107</td>\n",
       "    </tr>\n",
       "    <tr>\n",
       "      <th>171789</th>\n",
       "      <td>198778</td>\n",
       "      <td>224</td>\n",
       "      <td>3/1/2014 0:21</td>\n",
       "      <td>Civic Center BART (7th at Market)</td>\n",
       "      <td>72</td>\n",
       "      <td>3/1/2014 0:25</td>\n",
       "      <td>Golden Gate at Polk</td>\n",
       "      <td>59</td>\n",
       "      <td>380</td>\n",
       "      <td>Subscriber</td>\n",
       "      <td>94103</td>\n",
       "    </tr>\n",
       "    <tr>\n",
       "      <th>171790</th>\n",
       "      <td>198777</td>\n",
       "      <td>445</td>\n",
       "      <td>3/1/2014 0:16</td>\n",
       "      <td>San Francisco Caltrain (Townsend at 4th)</td>\n",
       "      <td>70</td>\n",
       "      <td>3/1/2014 0:23</td>\n",
       "      <td>Embarcadero at Bryant</td>\n",
       "      <td>54</td>\n",
       "      <td>268</td>\n",
       "      <td>Subscriber</td>\n",
       "      <td>94105</td>\n",
       "    </tr>\n",
       "    <tr>\n",
       "      <th>171791</th>\n",
       "      <td>198776</td>\n",
       "      <td>177</td>\n",
       "      <td>3/1/2014 0:14</td>\n",
       "      <td>Yerba Buena Center of the Arts (3rd @ Howard)</td>\n",
       "      <td>68</td>\n",
       "      <td>3/1/2014 0:17</td>\n",
       "      <td>Market at Sansome</td>\n",
       "      <td>77</td>\n",
       "      <td>398</td>\n",
       "      <td>Subscriber</td>\n",
       "      <td>94105</td>\n",
       "    </tr>\n",
       "  </tbody>\n",
       "</table>\n",
       "</div>"
      ],
      "text/plain": [
       "        TripID  Duration      StartDate  \\\n",
       "171787  198780       429  3/1/2014 0:42   \n",
       "171788  198779       179  3/1/2014 0:22   \n",
       "171789  198778       224  3/1/2014 0:21   \n",
       "171790  198777       445  3/1/2014 0:16   \n",
       "171791  198776       177  3/1/2014 0:14   \n",
       "\n",
       "                                         StartStation  StartTerminal  \\\n",
       "171787                                Spear at Folsom             49   \n",
       "171788                             Powell Street BART             39   \n",
       "171789              Civic Center BART (7th at Market)             72   \n",
       "171790       San Francisco Caltrain (Townsend at 4th)             70   \n",
       "171791  Yerba Buena Center of the Arts (3rd @ Howard)             68   \n",
       "\n",
       "              EndDate                 EndStation  EndTerminal  Bike #  \\\n",
       "171787  3/1/2014 0:49  Broadway St at Battery St           82     395   \n",
       "171788  3/1/2014 0:25              Market at 4th           76     439   \n",
       "171789  3/1/2014 0:25        Golden Gate at Polk           59     380   \n",
       "171790  3/1/2014 0:23      Embarcadero at Bryant           54     268   \n",
       "171791  3/1/2014 0:17          Market at Sansome           77     398   \n",
       "\n",
       "       SubscriberType ZipCode  \n",
       "171787     Subscriber   94105  \n",
       "171788     Subscriber   94107  \n",
       "171789     Subscriber   94103  \n",
       "171790     Subscriber   94105  \n",
       "171791     Subscriber   94105  "
      ]
     },
     "execution_count": 20,
     "metadata": {},
     "output_type": "execute_result"
    }
   ],
   "source": [
    "bigdata.tail()"
   ]
  },
  {
   "cell_type": "code",
   "execution_count": 21,
   "metadata": {
    "collapsed": false
   },
   "outputs": [
    {
     "data": {
      "text/plain": [
       "315807"
      ]
     },
     "execution_count": 21,
     "metadata": {},
     "output_type": "execute_result"
    }
   ],
   "source": [
    "len(bigdata)"
   ]
  },
  {
   "cell_type": "code",
   "execution_count": 22,
   "metadata": {
    "collapsed": false
   },
   "outputs": [
    {
     "data": {
      "text/plain": [
       "315807"
      ]
     },
     "execution_count": 22,
     "metadata": {},
     "output_type": "execute_result"
    }
   ],
   "source": [
    "#Check number of rows\n",
    "len(trip_data201402) + len(trip_data201408)"
   ]
  },
  {
   "cell_type": "code",
   "execution_count": 23,
   "metadata": {
    "collapsed": false
   },
   "outputs": [
    {
     "data": {
      "text/html": [
       "<div>\n",
       "<table border=\"1\" class=\"dataframe\">\n",
       "  <thead>\n",
       "    <tr style=\"text-align: right;\">\n",
       "      <th></th>\n",
       "      <th>TripID</th>\n",
       "      <th>Duration</th>\n",
       "      <th>StartDate</th>\n",
       "      <th>StartStation</th>\n",
       "      <th>StartTerminal</th>\n",
       "      <th>EndDate</th>\n",
       "      <th>EndStation</th>\n",
       "      <th>EndTerminal</th>\n",
       "      <th>Bike #</th>\n",
       "      <th>SubscriberType</th>\n",
       "      <th>ZipCode</th>\n",
       "    </tr>\n",
       "  </thead>\n",
       "  <tbody>\n",
       "    <tr>\n",
       "      <th>171791</th>\n",
       "      <td>198776</td>\n",
       "      <td>177</td>\n",
       "      <td>3/1/2014 0:14</td>\n",
       "      <td>Yerba Buena Center of the Arts (3rd @ Howard)</td>\n",
       "      <td>68</td>\n",
       "      <td>3/1/2014 0:17</td>\n",
       "      <td>Market at Sansome</td>\n",
       "      <td>77</td>\n",
       "      <td>398</td>\n",
       "      <td>Subscriber</td>\n",
       "      <td>94105</td>\n",
       "    </tr>\n",
       "  </tbody>\n",
       "</table>\n",
       "</div>"
      ],
      "text/plain": [
       "        TripID  Duration      StartDate  \\\n",
       "171791  198776       177  3/1/2014 0:14   \n",
       "\n",
       "                                         StartStation  StartTerminal  \\\n",
       "171791  Yerba Buena Center of the Arts (3rd @ Howard)             68   \n",
       "\n",
       "              EndDate         EndStation  EndTerminal  Bike # SubscriberType  \\\n",
       "171791  3/1/2014 0:17  Market at Sansome           77     398     Subscriber   \n",
       "\n",
       "       ZipCode  \n",
       "171791   94105  "
      ]
     },
     "execution_count": 23,
     "metadata": {},
     "output_type": "execute_result"
    }
   ],
   "source": [
    "trip_data201408[-1:]"
   ]
  },
  {
   "cell_type": "code",
   "execution_count": 24,
   "metadata": {
    "collapsed": false
   },
   "outputs": [
    {
     "data": {
      "text/html": [
       "<div>\n",
       "<table border=\"1\" class=\"dataframe\">\n",
       "  <thead>\n",
       "    <tr style=\"text-align: right;\">\n",
       "      <th></th>\n",
       "      <th>TripID</th>\n",
       "      <th>Duration</th>\n",
       "      <th>StartDate</th>\n",
       "      <th>StartStation</th>\n",
       "      <th>StartTerminal</th>\n",
       "      <th>EndDate</th>\n",
       "      <th>EndStation</th>\n",
       "      <th>EndTerminal</th>\n",
       "      <th>Bike #</th>\n",
       "      <th>SubscriberType</th>\n",
       "      <th>ZipCode</th>\n",
       "    </tr>\n",
       "  </thead>\n",
       "  <tbody>\n",
       "    <tr>\n",
       "      <th>0</th>\n",
       "      <td>4576</td>\n",
       "      <td>63</td>\n",
       "      <td>8/29/2013 14:13</td>\n",
       "      <td>South Van Ness at Market</td>\n",
       "      <td>66</td>\n",
       "      <td>8/29/2013 14:14</td>\n",
       "      <td>South Van Ness at Market</td>\n",
       "      <td>66</td>\n",
       "      <td>520</td>\n",
       "      <td>Subscriber</td>\n",
       "      <td>94127</td>\n",
       "    </tr>\n",
       "  </tbody>\n",
       "</table>\n",
       "</div>"
      ],
      "text/plain": [
       "   TripID  Duration        StartDate              StartStation  StartTerminal  \\\n",
       "0    4576        63  8/29/2013 14:13  South Van Ness at Market             66   \n",
       "\n",
       "           EndDate                EndStation  EndTerminal  Bike #  \\\n",
       "0  8/29/2013 14:14  South Van Ness at Market           66     520   \n",
       "\n",
       "  SubscriberType ZipCode  \n",
       "0     Subscriber   94127  "
      ]
     },
     "execution_count": 24,
     "metadata": {},
     "output_type": "execute_result"
    }
   ],
   "source": [
    "trip_data201402[:1]"
   ]
  },
  {
   "cell_type": "code",
   "execution_count": 25,
   "metadata": {
    "collapsed": true
   },
   "outputs": [],
   "source": [
    "# trip duration, start time, start terminal, end terminal and sub type."
   ]
  },
  {
   "cell_type": "code",
   "execution_count": 26,
   "metadata": {
    "collapsed": false
   },
   "outputs": [
    {
     "data": {
      "text/html": [
       "<div>\n",
       "<table border=\"1\" class=\"dataframe\">\n",
       "  <thead>\n",
       "    <tr style=\"text-align: right;\">\n",
       "      <th></th>\n",
       "      <th>TripID</th>\n",
       "      <th>Duration</th>\n",
       "      <th>StartDate</th>\n",
       "      <th>StartTerminal</th>\n",
       "      <th>EndTerminal</th>\n",
       "      <th>SubscriberType</th>\n",
       "    </tr>\n",
       "  </thead>\n",
       "  <tbody>\n",
       "    <tr>\n",
       "      <th>0</th>\n",
       "      <td>4576</td>\n",
       "      <td>63</td>\n",
       "      <td>8/29/2013 14:13</td>\n",
       "      <td>66</td>\n",
       "      <td>66</td>\n",
       "      <td>Subscriber</td>\n",
       "    </tr>\n",
       "    <tr>\n",
       "      <th>1</th>\n",
       "      <td>4607</td>\n",
       "      <td>70</td>\n",
       "      <td>8/29/2013 14:42</td>\n",
       "      <td>10</td>\n",
       "      <td>10</td>\n",
       "      <td>Subscriber</td>\n",
       "    </tr>\n",
       "    <tr>\n",
       "      <th>2</th>\n",
       "      <td>4130</td>\n",
       "      <td>71</td>\n",
       "      <td>8/29/2013 10:16</td>\n",
       "      <td>27</td>\n",
       "      <td>27</td>\n",
       "      <td>Subscriber</td>\n",
       "    </tr>\n",
       "    <tr>\n",
       "      <th>3</th>\n",
       "      <td>4251</td>\n",
       "      <td>77</td>\n",
       "      <td>8/29/2013 11:29</td>\n",
       "      <td>10</td>\n",
       "      <td>10</td>\n",
       "      <td>Subscriber</td>\n",
       "    </tr>\n",
       "    <tr>\n",
       "      <th>4</th>\n",
       "      <td>4299</td>\n",
       "      <td>83</td>\n",
       "      <td>8/29/2013 12:02</td>\n",
       "      <td>66</td>\n",
       "      <td>67</td>\n",
       "      <td>Subscriber</td>\n",
       "    </tr>\n",
       "  </tbody>\n",
       "</table>\n",
       "</div>"
      ],
      "text/plain": [
       "   TripID  Duration        StartDate  StartTerminal  EndTerminal  \\\n",
       "0    4576        63  8/29/2013 14:13             66           66   \n",
       "1    4607        70  8/29/2013 14:42             10           10   \n",
       "2    4130        71  8/29/2013 10:16             27           27   \n",
       "3    4251        77  8/29/2013 11:29             10           10   \n",
       "4    4299        83  8/29/2013 12:02             66           67   \n",
       "\n",
       "  SubscriberType  \n",
       "0     Subscriber  \n",
       "1     Subscriber  \n",
       "2     Subscriber  \n",
       "3     Subscriber  \n",
       "4     Subscriber  "
      ]
     },
     "execution_count": 26,
     "metadata": {},
     "output_type": "execute_result"
    }
   ],
   "source": [
    "summary_trip_data = bigdata[['TripID', 'Duration', 'StartDate', 'StartTerminal', 'EndTerminal', 'SubscriberType']]\n",
    "summary_trip_data.head()"
   ]
  },
  {
   "cell_type": "code",
   "execution_count": 27,
   "metadata": {
    "collapsed": false
   },
   "outputs": [
    {
     "data": {
      "text/html": [
       "<div>\n",
       "<table border=\"1\" class=\"dataframe\">\n",
       "  <thead>\n",
       "    <tr style=\"text-align: right;\">\n",
       "      <th></th>\n",
       "      <th>TripID</th>\n",
       "      <th>Duration</th>\n",
       "      <th>StartDate</th>\n",
       "      <th>StartTerminal</th>\n",
       "      <th>EndTerminal</th>\n",
       "      <th>SubscriberType</th>\n",
       "    </tr>\n",
       "  </thead>\n",
       "  <tbody>\n",
       "    <tr>\n",
       "      <th>0</th>\n",
       "      <td>4576</td>\n",
       "      <td>1.050000</td>\n",
       "      <td>8/29/2013 14:13</td>\n",
       "      <td>66</td>\n",
       "      <td>66</td>\n",
       "      <td>Subscriber</td>\n",
       "    </tr>\n",
       "    <tr>\n",
       "      <th>1</th>\n",
       "      <td>4607</td>\n",
       "      <td>1.166667</td>\n",
       "      <td>8/29/2013 14:42</td>\n",
       "      <td>10</td>\n",
       "      <td>10</td>\n",
       "      <td>Subscriber</td>\n",
       "    </tr>\n",
       "    <tr>\n",
       "      <th>2</th>\n",
       "      <td>4130</td>\n",
       "      <td>1.183333</td>\n",
       "      <td>8/29/2013 10:16</td>\n",
       "      <td>27</td>\n",
       "      <td>27</td>\n",
       "      <td>Subscriber</td>\n",
       "    </tr>\n",
       "    <tr>\n",
       "      <th>3</th>\n",
       "      <td>4251</td>\n",
       "      <td>1.283333</td>\n",
       "      <td>8/29/2013 11:29</td>\n",
       "      <td>10</td>\n",
       "      <td>10</td>\n",
       "      <td>Subscriber</td>\n",
       "    </tr>\n",
       "    <tr>\n",
       "      <th>4</th>\n",
       "      <td>4299</td>\n",
       "      <td>1.383333</td>\n",
       "      <td>8/29/2013 12:02</td>\n",
       "      <td>66</td>\n",
       "      <td>67</td>\n",
       "      <td>Subscriber</td>\n",
       "    </tr>\n",
       "    <tr>\n",
       "      <th>5</th>\n",
       "      <td>4927</td>\n",
       "      <td>1.716667</td>\n",
       "      <td>8/29/2013 18:54</td>\n",
       "      <td>59</td>\n",
       "      <td>59</td>\n",
       "      <td>Subscriber</td>\n",
       "    </tr>\n",
       "    <tr>\n",
       "      <th>6</th>\n",
       "      <td>4500</td>\n",
       "      <td>1.816667</td>\n",
       "      <td>8/29/2013 13:25</td>\n",
       "      <td>4</td>\n",
       "      <td>5</td>\n",
       "      <td>Subscriber</td>\n",
       "    </tr>\n",
       "    <tr>\n",
       "      <th>7</th>\n",
       "      <td>4563</td>\n",
       "      <td>1.850000</td>\n",
       "      <td>8/29/2013 14:02</td>\n",
       "      <td>8</td>\n",
       "      <td>8</td>\n",
       "      <td>Subscriber</td>\n",
       "    </tr>\n",
       "    <tr>\n",
       "      <th>8</th>\n",
       "      <td>4760</td>\n",
       "      <td>1.883333</td>\n",
       "      <td>8/29/2013 17:01</td>\n",
       "      <td>66</td>\n",
       "      <td>66</td>\n",
       "      <td>Subscriber</td>\n",
       "    </tr>\n",
       "    <tr>\n",
       "      <th>9</th>\n",
       "      <td>4258</td>\n",
       "      <td>1.900000</td>\n",
       "      <td>8/29/2013 11:33</td>\n",
       "      <td>10</td>\n",
       "      <td>11</td>\n",
       "      <td>Subscriber</td>\n",
       "    </tr>\n",
       "  </tbody>\n",
       "</table>\n",
       "</div>"
      ],
      "text/plain": [
       "   TripID  Duration        StartDate  StartTerminal  EndTerminal  \\\n",
       "0    4576  1.050000  8/29/2013 14:13             66           66   \n",
       "1    4607  1.166667  8/29/2013 14:42             10           10   \n",
       "2    4130  1.183333  8/29/2013 10:16             27           27   \n",
       "3    4251  1.283333  8/29/2013 11:29             10           10   \n",
       "4    4299  1.383333  8/29/2013 12:02             66           67   \n",
       "5    4927  1.716667  8/29/2013 18:54             59           59   \n",
       "6    4500  1.816667  8/29/2013 13:25              4            5   \n",
       "7    4563  1.850000  8/29/2013 14:02              8            8   \n",
       "8    4760  1.883333  8/29/2013 17:01             66           66   \n",
       "9    4258  1.900000  8/29/2013 11:33             10           11   \n",
       "\n",
       "  SubscriberType  \n",
       "0     Subscriber  \n",
       "1     Subscriber  \n",
       "2     Subscriber  \n",
       "3     Subscriber  \n",
       "4     Subscriber  \n",
       "5     Subscriber  \n",
       "6     Subscriber  \n",
       "7     Subscriber  \n",
       "8     Subscriber  \n",
       "9     Subscriber  "
      ]
     },
     "execution_count": 27,
     "metadata": {},
     "output_type": "execute_result"
    }
   ],
   "source": [
    "import warnings\n",
    "warnings.filterwarnings('ignore')\n",
    "#Convert seconds to minutes\n",
    "summary_trip_data['Duration'] = summary_trip_data['Duration'] / 60\n",
    "summary_trip_data.head(10)"
   ]
  },
  {
   "cell_type": "code",
   "execution_count": 33,
   "metadata": {
    "collapsed": false
   },
   "outputs": [],
   "source": [
    "# Expand date column into year, month, weekday and hour columns.\n",
    "# Test on 10 rows of data verison.\n",
    "def expand_date(summary_trip_data):\n",
    "    s = summary_trip_data.head(10)['StartDate']\n",
    "\n",
    "    s0 = pd.DataFrame({\n",
    "            'start_date': pd.to_datetime(s).dt.date,\n",
    "            'start_year': pd.to_datetime(s).dt.year,\n",
    "            'start_hour': pd.to_datetime(s).dt.hour,\n",
    "            'start_month': pd.to_datetime(s).dt.month,\n",
    "            'weekday': pd.to_datetime(s).dt.weekday\n",
    "\n",
    "        })\n",
    "\n",
    "    s1 = summary_trip_data.head(10)\n",
    "    s1.loc[:,'StartYear'] = s0['start_year']\n",
    "    s1.loc[:,'StartMonth'] = s0['start_month']\n",
    "    s1.loc[:,'Weekday'] = s0['weekday']\n",
    "    s1.loc[:,'StartHour'] = s0['start_hour']\n",
    "    \n",
    "    return s1"
   ]
  },
  {
   "cell_type": "code",
   "execution_count": 34,
   "metadata": {
    "collapsed": false
   },
   "outputs": [
    {
     "data": {
      "text/html": [
       "<div>\n",
       "<table border=\"1\" class=\"dataframe\">\n",
       "  <thead>\n",
       "    <tr style=\"text-align: right;\">\n",
       "      <th></th>\n",
       "      <th>TripID</th>\n",
       "      <th>Duration</th>\n",
       "      <th>StartDate</th>\n",
       "      <th>StartTerminal</th>\n",
       "      <th>EndTerminal</th>\n",
       "      <th>SubscriberType</th>\n",
       "      <th>StartYear</th>\n",
       "      <th>StartMonth</th>\n",
       "      <th>Weekday</th>\n",
       "      <th>StartHour</th>\n",
       "    </tr>\n",
       "  </thead>\n",
       "  <tbody>\n",
       "    <tr>\n",
       "      <th>0</th>\n",
       "      <td>4576</td>\n",
       "      <td>1.050000</td>\n",
       "      <td>8/29/2013 14:13</td>\n",
       "      <td>66</td>\n",
       "      <td>66</td>\n",
       "      <td>Subscriber</td>\n",
       "      <td>2013</td>\n",
       "      <td>8</td>\n",
       "      <td>3</td>\n",
       "      <td>14</td>\n",
       "    </tr>\n",
       "    <tr>\n",
       "      <th>1</th>\n",
       "      <td>4607</td>\n",
       "      <td>1.166667</td>\n",
       "      <td>8/29/2013 14:42</td>\n",
       "      <td>10</td>\n",
       "      <td>10</td>\n",
       "      <td>Subscriber</td>\n",
       "      <td>2013</td>\n",
       "      <td>8</td>\n",
       "      <td>3</td>\n",
       "      <td>14</td>\n",
       "    </tr>\n",
       "    <tr>\n",
       "      <th>2</th>\n",
       "      <td>4130</td>\n",
       "      <td>1.183333</td>\n",
       "      <td>8/29/2013 10:16</td>\n",
       "      <td>27</td>\n",
       "      <td>27</td>\n",
       "      <td>Subscriber</td>\n",
       "      <td>2013</td>\n",
       "      <td>8</td>\n",
       "      <td>3</td>\n",
       "      <td>10</td>\n",
       "    </tr>\n",
       "    <tr>\n",
       "      <th>3</th>\n",
       "      <td>4251</td>\n",
       "      <td>1.283333</td>\n",
       "      <td>8/29/2013 11:29</td>\n",
       "      <td>10</td>\n",
       "      <td>10</td>\n",
       "      <td>Subscriber</td>\n",
       "      <td>2013</td>\n",
       "      <td>8</td>\n",
       "      <td>3</td>\n",
       "      <td>11</td>\n",
       "    </tr>\n",
       "    <tr>\n",
       "      <th>4</th>\n",
       "      <td>4299</td>\n",
       "      <td>1.383333</td>\n",
       "      <td>8/29/2013 12:02</td>\n",
       "      <td>66</td>\n",
       "      <td>67</td>\n",
       "      <td>Subscriber</td>\n",
       "      <td>2013</td>\n",
       "      <td>8</td>\n",
       "      <td>3</td>\n",
       "      <td>12</td>\n",
       "    </tr>\n",
       "    <tr>\n",
       "      <th>5</th>\n",
       "      <td>4927</td>\n",
       "      <td>1.716667</td>\n",
       "      <td>8/29/2013 18:54</td>\n",
       "      <td>59</td>\n",
       "      <td>59</td>\n",
       "      <td>Subscriber</td>\n",
       "      <td>2013</td>\n",
       "      <td>8</td>\n",
       "      <td>3</td>\n",
       "      <td>18</td>\n",
       "    </tr>\n",
       "    <tr>\n",
       "      <th>6</th>\n",
       "      <td>4500</td>\n",
       "      <td>1.816667</td>\n",
       "      <td>8/29/2013 13:25</td>\n",
       "      <td>4</td>\n",
       "      <td>5</td>\n",
       "      <td>Subscriber</td>\n",
       "      <td>2013</td>\n",
       "      <td>8</td>\n",
       "      <td>3</td>\n",
       "      <td>13</td>\n",
       "    </tr>\n",
       "    <tr>\n",
       "      <th>7</th>\n",
       "      <td>4563</td>\n",
       "      <td>1.850000</td>\n",
       "      <td>8/29/2013 14:02</td>\n",
       "      <td>8</td>\n",
       "      <td>8</td>\n",
       "      <td>Subscriber</td>\n",
       "      <td>2013</td>\n",
       "      <td>8</td>\n",
       "      <td>3</td>\n",
       "      <td>14</td>\n",
       "    </tr>\n",
       "    <tr>\n",
       "      <th>8</th>\n",
       "      <td>4760</td>\n",
       "      <td>1.883333</td>\n",
       "      <td>8/29/2013 17:01</td>\n",
       "      <td>66</td>\n",
       "      <td>66</td>\n",
       "      <td>Subscriber</td>\n",
       "      <td>2013</td>\n",
       "      <td>8</td>\n",
       "      <td>3</td>\n",
       "      <td>17</td>\n",
       "    </tr>\n",
       "    <tr>\n",
       "      <th>9</th>\n",
       "      <td>4258</td>\n",
       "      <td>1.900000</td>\n",
       "      <td>8/29/2013 11:33</td>\n",
       "      <td>10</td>\n",
       "      <td>11</td>\n",
       "      <td>Subscriber</td>\n",
       "      <td>2013</td>\n",
       "      <td>8</td>\n",
       "      <td>3</td>\n",
       "      <td>11</td>\n",
       "    </tr>\n",
       "  </tbody>\n",
       "</table>\n",
       "</div>"
      ],
      "text/plain": [
       "   TripID  Duration        StartDate  StartTerminal  EndTerminal  \\\n",
       "0    4576  1.050000  8/29/2013 14:13             66           66   \n",
       "1    4607  1.166667  8/29/2013 14:42             10           10   \n",
       "2    4130  1.183333  8/29/2013 10:16             27           27   \n",
       "3    4251  1.283333  8/29/2013 11:29             10           10   \n",
       "4    4299  1.383333  8/29/2013 12:02             66           67   \n",
       "5    4927  1.716667  8/29/2013 18:54             59           59   \n",
       "6    4500  1.816667  8/29/2013 13:25              4            5   \n",
       "7    4563  1.850000  8/29/2013 14:02              8            8   \n",
       "8    4760  1.883333  8/29/2013 17:01             66           66   \n",
       "9    4258  1.900000  8/29/2013 11:33             10           11   \n",
       "\n",
       "  SubscriberType  StartYear  StartMonth  Weekday  StartHour  \n",
       "0     Subscriber       2013           8        3         14  \n",
       "1     Subscriber       2013           8        3         14  \n",
       "2     Subscriber       2013           8        3         10  \n",
       "3     Subscriber       2013           8        3         11  \n",
       "4     Subscriber       2013           8        3         12  \n",
       "5     Subscriber       2013           8        3         18  \n",
       "6     Subscriber       2013           8        3         13  \n",
       "7     Subscriber       2013           8        3         14  \n",
       "8     Subscriber       2013           8        3         17  \n",
       "9     Subscriber       2013           8        3         11  "
      ]
     },
     "execution_count": 34,
     "metadata": {},
     "output_type": "execute_result"
    }
   ],
   "source": [
    "# Test on 10 rows...\n",
    "expand_date(summary_trip_data.head(10))"
   ]
  },
  {
   "cell_type": "code",
   "execution_count": 31,
   "metadata": {
    "collapsed": true
   },
   "outputs": [],
   "source": [
    "e_summary_trip_data = expand_date(summary_trip_data.head(10))\n",
    "e_summary_trip_data.to_csv('expanded_summary_trip_data.csv')"
   ]
  },
  {
   "cell_type": "code",
   "execution_count": 32,
   "metadata": {
    "collapsed": false
   },
   "outputs": [],
   "source": [
    "# Works! Now the full sample data....\n",
    "\n",
    "def expand_date(summary_trip_data):\n",
    "    s = summary_trip_data.head(27345)['StartDate']\n",
    "\n",
    "    s0 = pd.DataFrame({\n",
    "            'start_date': pd.to_datetime(s).dt.date,\n",
    "            'start_year': pd.to_datetime(s).dt.year,\n",
    "            'start_hour': pd.to_datetime(s).dt.hour,\n",
    "            'start_month': pd.to_datetime(s).dt.month,\n",
    "            'weekday': pd.to_datetime(s).dt.weekday\n",
    "\n",
    "        })\n",
    "\n",
    "    s1 = summary_trip_data.head(27345)\n",
    "    s1.loc[:,'StartYear'] = s0['start_year']\n",
    "    s1.loc[:,'StartMonth'] = s0['start_month']\n",
    "    s1.loc[:,'Weekday'] = s0['weekday']\n",
    "    s1.loc[:,'StartHour'] = s0['start_hour']\n",
    "    \n",
    "    return s1\n",
    "\n",
    "# expanded summary trip data\n",
    "e_summary_trip_data = expand_date(summary_trip_data.head(27345))\n",
    "e_summary_trip_data.to_csv('expanded_summary_trip_data.csv')"
   ]
  },
  {
   "cell_type": "code",
   "execution_count": 33,
   "metadata": {
    "collapsed": false
   },
   "outputs": [
    {
     "data": {
      "text/html": [
       "<div>\n",
       "<table border=\"1\" class=\"dataframe\">\n",
       "  <thead>\n",
       "    <tr style=\"text-align: right;\">\n",
       "      <th></th>\n",
       "      <th>TripID</th>\n",
       "      <th>Duration</th>\n",
       "      <th>StartDate</th>\n",
       "      <th>StartTerminal</th>\n",
       "      <th>EndTerminal</th>\n",
       "      <th>SubscriberType</th>\n",
       "      <th>StartYear</th>\n",
       "      <th>StartMonth</th>\n",
       "      <th>Weekday</th>\n",
       "      <th>StartHour</th>\n",
       "    </tr>\n",
       "  </thead>\n",
       "  <tbody>\n",
       "    <tr>\n",
       "      <th>0</th>\n",
       "      <td>4576</td>\n",
       "      <td>1.050000</td>\n",
       "      <td>8/29/2013 14:13</td>\n",
       "      <td>66</td>\n",
       "      <td>66</td>\n",
       "      <td>Subscriber</td>\n",
       "      <td>2013</td>\n",
       "      <td>8</td>\n",
       "      <td>3</td>\n",
       "      <td>14</td>\n",
       "    </tr>\n",
       "    <tr>\n",
       "      <th>1</th>\n",
       "      <td>4607</td>\n",
       "      <td>1.166667</td>\n",
       "      <td>8/29/2013 14:42</td>\n",
       "      <td>10</td>\n",
       "      <td>10</td>\n",
       "      <td>Subscriber</td>\n",
       "      <td>2013</td>\n",
       "      <td>8</td>\n",
       "      <td>3</td>\n",
       "      <td>14</td>\n",
       "    </tr>\n",
       "    <tr>\n",
       "      <th>2</th>\n",
       "      <td>4130</td>\n",
       "      <td>1.183333</td>\n",
       "      <td>8/29/2013 10:16</td>\n",
       "      <td>27</td>\n",
       "      <td>27</td>\n",
       "      <td>Subscriber</td>\n",
       "      <td>2013</td>\n",
       "      <td>8</td>\n",
       "      <td>3</td>\n",
       "      <td>10</td>\n",
       "    </tr>\n",
       "    <tr>\n",
       "      <th>3</th>\n",
       "      <td>4251</td>\n",
       "      <td>1.283333</td>\n",
       "      <td>8/29/2013 11:29</td>\n",
       "      <td>10</td>\n",
       "      <td>10</td>\n",
       "      <td>Subscriber</td>\n",
       "      <td>2013</td>\n",
       "      <td>8</td>\n",
       "      <td>3</td>\n",
       "      <td>11</td>\n",
       "    </tr>\n",
       "    <tr>\n",
       "      <th>4</th>\n",
       "      <td>4299</td>\n",
       "      <td>1.383333</td>\n",
       "      <td>8/29/2013 12:02</td>\n",
       "      <td>66</td>\n",
       "      <td>67</td>\n",
       "      <td>Subscriber</td>\n",
       "      <td>2013</td>\n",
       "      <td>8</td>\n",
       "      <td>3</td>\n",
       "      <td>12</td>\n",
       "    </tr>\n",
       "  </tbody>\n",
       "</table>\n",
       "</div>"
      ],
      "text/plain": [
       "   TripID  Duration        StartDate  StartTerminal  EndTerminal  \\\n",
       "0    4576  1.050000  8/29/2013 14:13             66           66   \n",
       "1    4607  1.166667  8/29/2013 14:42             10           10   \n",
       "2    4130  1.183333  8/29/2013 10:16             27           27   \n",
       "3    4251  1.283333  8/29/2013 11:29             10           10   \n",
       "4    4299  1.383333  8/29/2013 12:02             66           67   \n",
       "\n",
       "  SubscriberType  StartYear  StartMonth  Weekday  StartHour  \n",
       "0     Subscriber       2013           8        3         14  \n",
       "1     Subscriber       2013           8        3         14  \n",
       "2     Subscriber       2013           8        3         10  \n",
       "3     Subscriber       2013           8        3         11  \n",
       "4     Subscriber       2013           8        3         12  "
      ]
     },
     "execution_count": 33,
     "metadata": {},
     "output_type": "execute_result"
    }
   ],
   "source": [
    "# Summary dataframe with expanded datetime column\n",
    "e_summary_trip_data.head()"
   ]
  },
  {
   "cell_type": "markdown",
   "metadata": {},
   "source": [
    "## Exploratory Data Analysis"
   ]
  },
  {
   "cell_type": "code",
   "execution_count": 34,
   "metadata": {
    "collapsed": false
   },
   "outputs": [],
   "source": [
    "import matplotlib.pyplot as plt\n",
    "import seaborn as sns\n",
    "plt.rcParams['figure.figsize'] = 8,4"
   ]
  },
  {
   "cell_type": "code",
   "execution_count": 35,
   "metadata": {
    "collapsed": false
   },
   "outputs": [],
   "source": [
    "# Q1. How often do user trips go over 30 min?"
   ]
  },
  {
   "cell_type": "code",
   "execution_count": 36,
   "metadata": {
    "collapsed": false
   },
   "outputs": [
    {
     "data": {
      "image/png": "[encoded data removed]",
      "text/plain": [
       "<matplotlib.figure.Figure at 0xea78e10>"
      ]
     },
     "metadata": {},
     "output_type": "display_data"
    }
   ],
   "source": [
    "under_60min = summary_trip_data[summary_trip_data.Duration < 60]\n",
    "plt.hist(under_60min['Duration'])\n",
    "plt.title('Number of Trips by Duration')\n",
    "plt.xlabel('Duration')\n",
    "plt.ylabel('Number of Trips')\n",
    "plt.show()"
   ]
  },
  {
   "cell_type": "markdown",
   "metadata": {},
   "source": [
    "As we can see most riders are aware of how the rental system works, and usually ride under 30 minutes.\n",
    "\n",
    "The 5 to 10 minute duration bracket has the most trips with over 120,000 trips."
   ]
  },
  {
   "cell_type": "code",
   "execution_count": 37,
   "metadata": {
    "collapsed": false
   },
   "outputs": [
    {
     "data": {
      "image/png": "[encoded data removed]",
      "text/plain": [
       "<matplotlib.figure.Figure at 0xebce5c0>"
      ]
     },
     "metadata": {},
     "output_type": "display_data"
    },
    {
     "data": {
      "image/png": "[encoded data removed]",
      "text/plain": [
       "<matplotlib.figure.Figure at 0xf294c18>"
      ]
     },
     "metadata": {},
     "output_type": "display_data"
    }
   ],
   "source": [
    "# compare subscriber and customer histograms\n",
    "under_60min_subs = summary_trip_data[(summary_trip_data.Duration < 60) & (summary_trip_data.SubscriberType == 'Subscriber')]\n",
    "plt.hist(under_60min_subs['Duration'])\n",
    "plt.title('Number of Trips by Duration for Subscribers')\n",
    "plt.xlabel('Duration')\n",
    "plt.ylabel('Number of Trips')\n",
    "plt.show()\n",
    "\n",
    "# And now histogram for customers\n",
    "customer_filter = (summary_trip_data.Duration < 60) & (summary_trip_data.SubscriberType == 'Customer')\n",
    "under_60min_cust = summary_trip_data[customer_filter]\n",
    "plt.hist(under_60min_cust['Duration'])\n",
    "plt.title('Number of Trips by Duration for Customers')\n",
    "plt.xlabel('Duration')\n",
    "plt.ylabel('Number of Trips')\n",
    "plt.show()"
   ]
  },
  {
   "cell_type": "markdown",
   "metadata": {},
   "source": [
    "Comparing the two histograms for subscribers and customers we see that customers are more likely than the annual members to exceed the 30 minute time limit before incurring additional fees."
   ]
  },
  {
   "cell_type": "code",
   "execution_count": 116,
   "metadata": {
    "collapsed": true
   },
   "outputs": [],
   "source": [
    "# Q2. Which method of payment do most users prefer?"
   ]
  },
  {
   "cell_type": "code",
   "execution_count": 117,
   "metadata": {
    "collapsed": false
   },
   "outputs": [
    {
     "data": {
      "text/plain": [
       "256529"
      ]
     },
     "execution_count": 117,
     "metadata": {},
     "output_type": "execute_result"
    }
   ],
   "source": [
    "subscriber_type = summary_trip_data['SubscriberType']\n",
    "#number of subscriber trips\n",
    "len(subscriber_type[subscriber_type != 'Customer'])\n"
   ]
  },
  {
   "cell_type": "code",
   "execution_count": 118,
   "metadata": {
    "collapsed": false
   },
   "outputs": [
    {
     "data": {
      "text/plain": [
       "59278"
      ]
     },
     "execution_count": 118,
     "metadata": {},
     "output_type": "execute_result"
    }
   ],
   "source": [
    "#number of customer trips\n",
    "len(subscriber_type[subscriber_type == 'Customer'])"
   ]
  },
  {
   "cell_type": "code",
   "execution_count": 48,
   "metadata": {
    "collapsed": false
   },
   "outputs": [
    {
     "data": {
      "text/html": [
       "<div>\n",
       "<table border=\"1\" class=\"dataframe\">\n",
       "  <thead>\n",
       "    <tr style=\"text-align: right;\">\n",
       "      <th></th>\n",
       "      <th>UserType</th>\n",
       "      <th>trips</th>\n",
       "      <th>percentage</th>\n",
       "    </tr>\n",
       "  </thead>\n",
       "  <tbody>\n",
       "    <tr>\n",
       "      <th>0</th>\n",
       "      <td>Customer</td>\n",
       "      <td>59278</td>\n",
       "      <td>18.770325</td>\n",
       "    </tr>\n",
       "    <tr>\n",
       "      <th>1</th>\n",
       "      <td>Subscriber</td>\n",
       "      <td>256529</td>\n",
       "      <td>81.229675</td>\n",
       "    </tr>\n",
       "  </tbody>\n",
       "</table>\n",
       "</div>"
      ],
      "text/plain": [
       "     UserType   trips  percentage\n",
       "0    Customer   59278   18.770325\n",
       "1  Subscriber  256529   81.229675"
      ]
     },
     "execution_count": 48,
     "metadata": {},
     "output_type": "execute_result"
    }
   ],
   "source": [
    "user_trips = summary_trip_data[['TripID', 'SubscriberType']].groupby('SubscriberType').agg(['count']).reset_index()\n",
    "user_trips.columns = ['UserType', 'trips']\n",
    "user_trips['percentage'] = user_trips['trips'] / len(summary_trip_data) * 100\n",
    "user_trips"
   ]
  },
  {
   "cell_type": "markdown",
   "metadata": {
    "collapsed": false
   },
   "source": [
    "Most users are subscribers, with over 81% of the trips being made by them."
   ]
  },
  {
   "cell_type": "markdown",
   "metadata": {},
   "source": [
    "## Further Exploration\n",
    "\n",
    "Below I will compare the sample data of the extended date column dataframe, e_summary_trip_data, in order to observe any differences in ridership depending on the weekday, and weekend."
   ]
  },
  {
   "cell_type": "code",
   "execution_count": 53,
   "metadata": {
    "collapsed": false
   },
   "outputs": [
    {
     "data": {
      "image/png": "[encoded data removed]",
      "text/plain": [
       "<matplotlib.figure.Figure at 0x16169550>"
      ]
     },
     "metadata": {},
     "output_type": "display_data"
    },
    {
     "data": {
      "image/png": "[encoded data removed]",
      "text/plain": [
       "<matplotlib.figure.Figure at 0x15ab34e0>"
      ]
     },
     "metadata": {},
     "output_type": "display_data"
    }
   ],
   "source": [
    "weekday_cust = (e_summary_trip_data.Duration < 60) & (e_summary_trip_data.SubscriberType == 'Customer') \\\n",
    "                & (e_summary_trip_data.Weekday <= 5)\n",
    "under_60min_cust = e_summary_trip_data[weekday_cust]\n",
    "plt.hist(under_60min_cust['Duration'])\n",
    "plt.title('Weekday Number of Trips by Duration for Customers')\n",
    "plt.xlabel('Duration')\n",
    "plt.ylabel('Number of Trips')\n",
    "plt.show()\n",
    "\n",
    "weekday_subs = (e_summary_trip_data.Duration < 60) & (e_summary_trip_data.SubscriberType == 'Subscriber') \\\n",
    "                & (e_summary_trip_data.Weekday <= 5)\n",
    "under_60min_cust = e_summary_trip_data[weekday_subs]\n",
    "plt.hist(under_60min_subs['Duration'])\n",
    "plt.title('Weekday Number of Trips by Duration for Subscribers')\n",
    "plt.xlabel('Duration')\n",
    "plt.ylabel('Number of Trips')\n",
    "plt.show()"
   ]
  },
  {
   "cell_type": "markdown",
   "metadata": {},
   "source": [
    "Weekend histograms"
   ]
  },
  {
   "cell_type": "code",
   "execution_count": 56,
   "metadata": {
    "collapsed": false
   },
   "outputs": [
    {
     "data": {
      "image/png": "[encoded data removed]",
      "text/plain": [
       "<matplotlib.figure.Figure at 0x15abfe48>"
      ]
     },
     "metadata": {},
     "output_type": "display_data"
    },
    {
     "data": {
      "image/png": "[encoded data removed]",
      "text/plain": [
       "<matplotlib.figure.Figure at 0x166b2278>"
      ]
     },
     "metadata": {},
     "output_type": "display_data"
    }
   ],
   "source": [
    "weekend_cust = (e_summary_trip_data.Duration < 60) & (e_summary_trip_data.SubscriberType == 'Customer') \\\n",
    "                & (e_summary_trip_data.Weekday > 5)\n",
    "under_60min_cust = e_summary_trip_data[weekend_cust]\n",
    "plt.hist(under_60min_cust['Duration'])\n",
    "plt.title('Weekend Number of Trips by Duration for Customers')\n",
    "plt.xlabel('Duration')\n",
    "plt.ylabel('Number of Trips')\n",
    "plt.show()\n",
    "\n",
    "weekend_subs = (e_summary_trip_data.Duration < 60) & (e_summary_trip_data.SubscriberType == 'Subscriber') \\\n",
    "                & (e_summary_trip_data.Weekday > 5)\n",
    "under_60min_cust = e_summary_trip_data[weekend_subs]\n",
    "plt.hist(under_60min_subs['Duration'])\n",
    "plt.title('Weekend Number of Trips by Duration for Subscribers')\n",
    "plt.xlabel('Duration')\n",
    "plt.ylabel('Number of Trips')\n",
    "plt.show()"
   ]
  },
  {
   "cell_type": "markdown",
   "metadata": {
    "collapsed": true
   },
   "source": [
    "## Conclusions\n",
    "\n",
    "I decided to compare subscribers with non-subscribers, in order to observe any trends between the two on the start of the weekend. What is interesting about this visualization is that non-subscribers are more likely than subscribers to take trips longer than 30 minutes.\n",
    "\n",
    "I chose this comparison visualization in order to observe any differences in trends for trip duration in between the weekdays (weekdays 1-5) and the weekend (weekdays 6,7). There is a drop-off of rides in Saturday compared with Monday. This implies there is more ridership during a workday, than the start of the weekend. Something interesting about this visualization is that it shows higher numbers of trips longer than 30 minutes even though there are less trips in general. We saw in the previous visualization that this is likely due to non-subscribers who are more likely to have trips longer than 30 minutes than subscribers.\n",
    "\n",
    "All in all subscribers seem to use the service for short commutes to their jobs in the workday, while customers are more likely to have rides longer than 30 minutes and ride on the weekend, implying a different use.\n",
    "\n",
    "**Potential future analyses**:\n",
    "I would like to learn more about how people use other services in New York City and how alternative systems of transportation perform.\n",
    "\n"
   ]
  }
 ],
 "metadata": {
  "anaconda-cloud": {},
  "kernelspec": {
   "display_name": "Python [conda root]",
   "language": "python",
   "name": "conda-root-py"
  },
  "language_info": {
   "codemirror_mode": {
    "name": "ipython",
    "version": 2
   },
   "file_extension": ".py",
   "mimetype": "text/x-python",
   "name": "python",
   "nbconvert_exporter": "python",
   "pygments_lexer": "ipython2",
   "version": "2.7.12"
  }
 },
 "nbformat": 4,
 "nbformat_minor": 1
}
